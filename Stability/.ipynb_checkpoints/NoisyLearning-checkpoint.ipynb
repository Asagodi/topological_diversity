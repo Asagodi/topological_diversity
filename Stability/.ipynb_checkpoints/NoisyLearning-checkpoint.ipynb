{
 "cells": [
  {
   "cell_type": "code",
   "execution_count": 1,
   "id": "3e22fce5-9d0d-448a-94dd-cad5ea0e8191",
   "metadata": {},
   "outputs": [
    {
     "name": "stderr",
     "output_type": "stream",
     "text": [
      "C:\\Users\\abel_\\anaconda3\\envs\\CIT_\\lib\\site-packages\\tqdm\\auto.py:21: TqdmWarning: IProgress not found. Please update jupyter and ipywidgets. See https://ipywidgets.readthedocs.io/en/stable/user_install.html\n",
      "  from .autonotebook import tqdm as notebook_tqdm\n"
     ]
    }
   ],
   "source": [
    "import matplotlib.pyplot as plt\n",
    "import matplotlib.font_manager as font_manager\n",
    "from matplotlib import rc\n",
    "rc('font', **{'family': 'serif', 'serif': ['Computer Modern']})\n",
    "rc('text', usetex=True)\n",
    "\n",
    "import numpy as np\n",
    "import seaborn as sns\n",
    "import torch\n",
    "import pickle\n",
    "import glob\n",
    "import os, sys\n",
    "import inspect\n",
    "current_dir = os.getcwd()\n",
    "parent_dir = os.path.dirname(current_dir)\n",
    "sys.path.insert(0, current_dir) \n",
    "sys.path.insert(0, parent_dir) \n",
    "\n",
    "from rnn_models import RNNModel\n",
    "from network_initialization import add_parameter_noise"
   ]
  },
  {
   "cell_type": "code",
   "execution_count": 2,
   "id": "55605c7c-4983-44a9-92ce-a395263a808b",
   "metadata": {},
   "outputs": [
    {
     "data": {
      "text/plain": [
       "<All keys matched successfully>"
      ]
     },
     "execution_count": 2,
     "metadata": {},
     "output_type": "execute_result"
    }
   ],
   "source": [
    "exp_list = glob.glob(parent_dir+\"\\\\experiments\\\\poisson_clicks\\\\exp_inputnoise_fixedstimduration100_mse_sgd_v2_1683972631*\")\n",
    "exp_list = glob.glob(parent_dir+\"\\\\experiments\\\\poisson_clicks\\\\exp_inputnoise_fixedstimduration100_mse_sgd_v3_1683971989*\") \n",
    "\n",
    "exp_list = sorted(exp_list, key = lambda x: int(x[-10:]))\n",
    "exp_path = exp_list[-1]\n",
    "with open(exp_path + '\\\\training_kwargs.pickle', 'rb') as handle:\n",
    "    training_kwargs = pickle.load(handle)\n",
    "\n",
    "training_kwargs['exp_path'] = exp_path\n",
    "training_kwargs['training_weights_path'] = exp_path + '/training/'\n",
    "training_kwargs['figures_path'] = exp_path + '//figures/'\n",
    "# training_kwargs['input_noise_startpulse_steps'] = 1\n",
    "\n",
    "with open(training_kwargs['exp_path'] + '/learning_info%s.pickle'%exp_path[-10:], 'rb') as handle:\n",
    "    learning_info = pickle.load(handle)\n",
    "    \n",
    "with open(training_kwargs['exp_path'] + '/dataset.pickle', 'rb') as handle:\n",
    "    dataset = pickle.load(handle)\n",
    "    \n",
    "training_kwargs['N_rec'] = 2\n",
    "rnn_model = RNNModel(training_kwargs['N_in'], training_kwargs['N_out'], training_kwargs['N_rec'], n_layers=1, transform_function='relu', constrain_spectrum=training_kwargs['constrain_spectrum']).to(training_kwargs['device'])\n",
    "rnn_model.load_state_dict(torch.load(training_kwargs['exp_path']+'\\\\weights%s.pth'%training_kwargs['idx'], map_location=torch.device(training_kwargs['device'])))\n",
    "# rnn_model.rnn.all_weights[0][2][:]"
   ]
  },
  {
   "cell_type": "code",
   "execution_count": 141,
   "id": "757527b7-7c1c-4480-aabd-47ed9477551e",
   "metadata": {},
   "outputs": [
    {
     "name": "stdout",
     "output_type": "stream",
     "text": [
      "0 *1684149858\n",
      "1 *1684149963\n",
      "2 *1684150067\n"
     ]
    },
    {
     "data": {
      "image/png": "[encoded data removed]",
      "text/plain": [
       "<Figure size 600x400 with 1 Axes>"
      ]
     },
     "metadata": {},
     "output_type": "display_data"
    }
   ],
   "source": [
    "sns.set_context(\"notebook\", font_scale=1.25, rc={\"lines.linewidth\": 1})\n",
    "fig = plt.figure(figsize=(6,4))\n",
    "ax = plt.subplot(111)\n",
    "\n",
    "exps = ['exp_inputnoise_fixedstimduration100_mse_sgd_v2_1683972631', 'exp_inputnoise_fixedstimduration100_mse_sgd_v3_1683971989']\n",
    "# exps = ['*1684140081*', '*1684140232*', '*1684140407*'] #grad clipping\n",
    "# exps = ['*1684140960*', '*1684141792*', '*1684141906*'] #no clipping\n",
    "# exps = ['*1684149720', '*1684149605', '*1684149374'] #clip, lower variance and learning rate\n",
    "exps = ['*1684149858', '*1684149963', '*1684150067'] #no clip, lower variance and learning rate\n",
    "# exps = ['*1684151281', '*1684151124', '*1684150980'] # clip at 100 \n",
    "# exps = ['*1684151455', '*1684151582', '*1684151744'] # clip at 10\n",
    "# exps = ['*1684162932', '*1684162607', '*1684162205'] # no clip, small inputs\n",
    "\n",
    "\n",
    "labels = ['iRNN',  'UBLA', 'BLAIZ']\n",
    "for i,exp in enumerate(exps):\n",
    "    print(i, exp)\n",
    "    exp_list = glob.glob(parent_dir+\"\\\\experiments\\\\poisson_clicks\\\\\"+exp) #100.000 blas\n",
    "    exp_list = sorted(exp_list, key = lambda x: int(x[-10:]))\n",
    "    exp_path = exp_list[-1]\n",
    "    training_kwargs['exp_path'] = exp_path\n",
    "    with open(training_kwargs['exp_path'] + '/learning_info%s.pickle'%exp_path[-10:], 'rb') as handle:\n",
    "        learning_info = pickle.load(handle)\n",
    "    with open(exp_path + '\\\\training_kwargs.pickle', 'rb') as handle:\n",
    "        training_kwargs = pickle.load(handle)\n",
    "    ax.plot(learning_info['training_loss'], label=labels[i])\n",
    "\n",
    "ax.set_xlabel(\"Epoch\")\n",
    "ax.set_ylabel(\"Loss\")\n",
    "ax.set_yscale(\"log\")\n",
    "\n",
    "plt.legend(loc='upper center', bbox_to_anchor=(0.5, -0.17),\n",
    "          fancybox=True, shadow=True, ncol=1, columnspacing=0.8, handletextpad=.1)\n",
    "font = font_manager.FontProperties(family='serif',\n",
    "                                   weight='bold', size=16)\n",
    "plt.savefig(current_dir+\"//figures/noisylearning_loss_all.pdf\", bbox_inches=\"tight\")\n",
    "plt.savefig(current_dir+\"//figures/noisylearning_loss_all.png\", bbox_inches=\"tight\")"
   ]
  },
  {
   "cell_type": "code",
   "execution_count": 142,
   "id": "26da3e18-ebfd-4ee3-a4e4-46047b10a31a",
   "metadata": {},
   "outputs": [
    {
     "data": {
      "text/plain": [
       "{'savedir': 'experiments',\n",
       " 'disable_cuda': True,\n",
       " 'dt': 10,\n",
       " 'T': 2000,\n",
       " 'tau': 100,\n",
       " 'single_or_curriculum': 'single',\n",
       " 'dataset_file': None,\n",
       " 'coherence_list': [4.0],\n",
       " 'coherence': None,\n",
       " 'data_size_per_coherence': 5000,\n",
       " 'total_data_size': 1000,\n",
       " 'train_proportion': 0.8,\n",
       " 'masked_training': False,\n",
       " 'onset_times': None,\n",
       " 'count_out': '1D_uncued',\n",
       " 'input_noise': 5e-06,\n",
       " 'input_noise_startpulse_steps': 1,\n",
       " 'stim_durations': None,\n",
       " 'task': 'poisson_clicks',\n",
       " 'ratio': None,\n",
       " 'sum_of_rates': 40.0,\n",
       " 'ratios': [-39.0,\n",
       "  -12.333333333333334,\n",
       "  -3.4444444444444446,\n",
       "  -1.8571428571428572,\n",
       "  1.8571428571428572,\n",
       "  3.4444444444444446,\n",
       "  12.333333333333334,\n",
       "  39.0],\n",
       " 'fixed_cue_onsetandduration': [5, 1, 5, 1],\n",
       " 'fixed_stim_duration': 100,\n",
       " 'fixed_stim_duration_list': None,\n",
       " 'exp_trunc_params_b': 1,\n",
       " 'exp_trunc_params_loc': 200,\n",
       " 'exp_trunc_params_scale': 1000,\n",
       " 'zero_target': 0.0,\n",
       " 'clicks_capped': True,\n",
       " 'equal_clicks': 'addone_random',\n",
       " 'target_withcue': False,\n",
       " 'high_accuracy_stop': 1.1,\n",
       " 'stationary_data': True,\n",
       " 'hazard_rate': 1,\n",
       " 'min_stim_start': 20,\n",
       " 'max_stim_start': 50,\n",
       " 'min_stim': 500,\n",
       " 'max_stim': 2000,\n",
       " 'cue_duration': 50,\n",
       " 'target_duration': 50,\n",
       " 'N_symbols': 8,\n",
       " 'input_length': 10,\n",
       " 'delay': 10,\n",
       " 'dataloader_batch_size': 1000,\n",
       " 'learning_rate': 1e-05,\n",
       " 'loss_function': 'mse',\n",
       " 'optimizer': 'sgd',\n",
       " 'sgd_momentum': 0.9,\n",
       " 'scheduler': 'steplr',\n",
       " 'steplr_gamma': 0.5,\n",
       " 'scheduler_step_size': 500,\n",
       " 'clip_grads': False,\n",
       " 'clip_grads_value': 1,\n",
       " 'weight_decay': 0.0,\n",
       " 'norm': None,\n",
       " 'norm_lambda': 0.001,\n",
       " 'act_norm_lambda': 0,\n",
       " 'continual_learning': False,\n",
       " 'check_the_dead': False,\n",
       " 'check_the_dead_per_epoch': 1,\n",
       " 'weight_reinitialization_variance': 0.001,\n",
       " 'early_stopping_criterion_epochs': 5000,\n",
       " 'difference_tolerance': 1e-05,\n",
       " 'curriculum_switching_criterion_epochs': 100,\n",
       " 'accuracy_goal': 0.99,\n",
       " 'max_epochs': 200,\n",
       " 'min_epochs_per_curriculum': 5,\n",
       " 'model_type': 'rnn',\n",
       " 'hidden_layers': [64],\n",
       " 'load_model': 'v3',\n",
       " 'random_winout': '',\n",
       " 'N_in': 2,\n",
       " 'N_out': 1,\n",
       " 'N_rec': 20,\n",
       " 'N_inter': 10,\n",
       " 'transform_function': 'relu',\n",
       " 'n_layers': 1,\n",
       " 'hidden_initial_activations': 'offset',\n",
       " 'hidden_initial_variance': 0.0,\n",
       " 'hidden_offset': 100,\n",
       " 'output_activation': 'identity',\n",
       " 'constrain_diagonal': False,\n",
       " 'constrain_spectrum': False,\n",
       " 'N_blas': 1,\n",
       " 'perfect_inout_variance': 0.0001,\n",
       " 'exp_path': 'C:\\\\Users\\\\abel_\\\\Documents\\\\Rotations\\\\CIT\\\\cit_for_computation/experiments/poisson_clicks/exp_inputnoise_fixedstimduration100_mse_sgd_v3_1684150067/',\n",
       " 'save_training_weights_epoch': 5000,\n",
       " 'callback_every': 50,\n",
       " 'idx': 1684150067,\n",
       " 'verbosity': True,\n",
       " 'exp_trunc_params': {'b': 1, 'loc': 200, 'scale': 1000},\n",
       " 'device': device(type='cpu'),\n",
       " 'figures_path': 'C:\\\\Users\\\\abel_\\\\Documents\\\\Rotations\\\\CIT\\\\cit_for_computation/experiments/poisson_clicks/exp_inputnoise_fixedstimduration100_mse_sgd_v3_1684150067//figures/',\n",
       " 'training_weights_path': 'C:\\\\Users\\\\abel_\\\\Documents\\\\Rotations\\\\CIT\\\\cit_for_computation/experiments/poisson_clicks/exp_inputnoise_fixedstimduration100_mse_sgd_v3_1684150067//training/'}"
      ]
     },
     "execution_count": 142,
     "metadata": {},
     "output_type": "execute_result"
    }
   ],
   "source": [
    "training_kwargs"
   ]
  },
  {
   "cell_type": "markdown",
   "id": "fefff70b-33fb-4f11-8899-c1e102f382b9",
   "metadata": {},
   "source": []
  },
  {
   "cell_type": "code",
   "execution_count": 92,
   "id": "cd997cb6-0df6-4df0-b82a-fcdd721818f9",
   "metadata": {},
   "outputs": [],
   "source": [
    "training_kwargs['hidden_initial_activations'] = 'offset'"
   ]
  },
  {
   "cell_type": "code",
   "execution_count": 93,
   "id": "d677a40d-a30c-4dda-8ec7-3eaa0761ea47",
   "metadata": {},
   "outputs": [
    {
     "data": {
      "text/plain": [
       "<All keys matched successfully>"
      ]
     },
     "execution_count": 93,
     "metadata": {},
     "output_type": "execute_result"
    }
   ],
   "source": [
    "training_kwargs['N_rec'] = 2\n",
    "rnn_model = RNNModel(training_kwargs['N_in'], training_kwargs['N_out'], training_kwargs['N_rec'],\n",
    "                     n_layers=1, transform_function='relu',\n",
    "                     constrain_spectrum=training_kwargs['constrain_spectrum'], \n",
    "                    hidden_initial_activations=training_kwargs['hidden_initial_activations']).to(training_kwargs['device'])\n",
    "rnn_model.load_state_dict(torch.load(training_kwargs['exp_path']+'\\\\weights%s.pth'%training_kwargs['idx'], map_location=torch.device(training_kwargs['device'])))\n",
    "\n",
    "# rnn_model = add_parameter_noise(rnn_model, 0.2)"
   ]
  },
  {
   "cell_type": "code",
   "execution_count": 85,
   "id": "9939f387-c20f-4646-8efb-3e53cce9cb8d",
   "metadata": {},
   "outputs": [
    {
     "name": "stdout",
     "output_type": "stream",
     "text": [
      "tensor(-1.4470, grad_fn=<LogBackward0>)\n"
     ]
    }
   ],
   "source": [
    "batch_size = x.shape[0]\n",
    "inputs = torch.tensor(x, dtype=torch.float)\n",
    "targets = torch.tensor(y, dtype=torch.float)\n",
    "yhat, _ = rnn_model(inputs)\n",
    "print(torch.log(torch.mean(targets.view(-1,training_kwargs['N_out'])-yhat.view(-1,training_kwargs['N_out']))**2))\n",
    "yhat = yhat.detach().numpy()"
   ]
  },
  {
   "cell_type": "code",
   "execution_count": 75,
   "id": "06bd4ada-9e89-4127-b201-cf5a04687a79",
   "metadata": {},
   "outputs": [
    {
     "data": {
      "text/plain": [
       "[<matplotlib.lines.Line2D at 0x14ede14a650>]"
      ]
     },
     "execution_count": 75,
     "metadata": {},
     "output_type": "execute_result"
    },
    {
     "data": {
      "image/png": "[encoded data removed]",
      "text/plain": [
       "<Figure size 640x480 with 1 Axes>"
      ]
     },
     "metadata": {},
     "output_type": "display_data"
    }
   ],
   "source": [
    "i = 4\n",
    "plt.plot(y[i,:])\n",
    "plt.plot(yhat[i,:])"
   ]
  },
  {
   "cell_type": "code",
   "execution_count": 76,
   "id": "9ea94e7c-054b-4d75-9d32-7749f93559a4",
   "metadata": {},
   "outputs": [
    {
     "data": {
      "text/plain": [
       "(array([  141.,   214.,  1550.,  7153., 24144., 91730., 25298.,  7135.,\n",
       "         2324.,   311.]),\n",
       " array([-11.92910339,  -9.7269222 ,  -7.524741  ,  -5.32255981,\n",
       "         -3.12037862,  -0.91819743,   1.28398377,   3.48616496,\n",
       "          5.68834615,   7.89052734,  10.09270854]),\n",
       " <BarContainer object of 10 artists>)"
      ]
     },
     "execution_count": 76,
     "metadata": {},
     "output_type": "execute_result"
    },
    {
     "data": {
      "image/png": "[encoded data removed]",
      "text/plain": [
       "<Figure size 640x480 with 1 Axes>"
      ]
     },
     "metadata": {},
     "output_type": "display_data"
    }
   ],
   "source": [
    "plt.hist(y.flatten()-yhat[:,:,0].flatten())"
   ]
  },
  {
   "cell_type": "code",
   "execution_count": 154,
   "id": "c901cff3-533a-4c50-bb57-94f324a5eb71",
   "metadata": {},
   "outputs": [
    {
     "data": {
      "text/plain": [
       "'C:\\\\Users\\\\abel_\\\\Documents\\\\Rotations\\\\CIT\\\\cit_for_computation\\\\\\\\experiments\\\\\\\\poisso1684201885'"
      ]
     },
     "execution_count": 154,
     "metadata": {},
     "output_type": "execute_result"
    }
   ],
   "source": [
    "exp[:-120] + exp[-10:]"
   ]
  },
  {
   "cell_type": "code",
   "execution_count": null,
   "id": "36c9f2b7-e5bc-4ca8-bca1-187cfad4583f",
   "metadata": {},
   "outputs": [],
   "source": []
  },
  {
   "cell_type": "code",
   "execution_count": null,
   "id": "79a5fff0-b938-408c-8fbb-5f82c8ba8c1b",
   "metadata": {},
   "outputs": [
    {
     "name": "stdout",
     "output_type": "stream",
     "text": [
      "False\n",
      "False\n",
      "False\n"
     ]
    },
    {
     "data": {
      "image/png": "[encoded data removed]",
      "text/plain": [
       "<Figure size 600x400 with 1 Axes>"
      ]
     },
     "metadata": {},
     "output_type": "display_data"
    }
   ],
   "source": [
    "sns.set_context(\"notebook\", font_scale=1.25, rc={\"lines.linewidth\": 1})\n",
    "fig = plt.figure(figsize=(6,4))\n",
    "ax = plt.subplot(111)\n",
    "labels = ['iRNN', 'UBLA', 'BLA']\n",
    "colors = ['k', 'crimson', 'b']\n",
    "max_epoch = 11\n",
    "v1_losses_dict = {}\n",
    "for i in range(1,4):\n",
    "    exp_list = glob.glob(parent_dir+r\"\\experiments\\poisson_clicks\\noisy_learning\\exp*v%s*\"%i)\n",
    "    v1_losses_dict[i] = np.empty((len(exp_list), max_epoch))\n",
    "\n",
    "    for j,exp in enumerate(exp_list[:]):\n",
    "        learn_path = glob.glob(exp+'\\learning*')[0]\n",
    "        with open(learn_path, 'rb') as handle:\n",
    "            learning_info = pickle.load(handle)\n",
    "        v1_losses_dict[i][j, :] = learning_info['training_loss'][:max_epoch]\n",
    "        plt.plot(v1_losses_dict[i][j, :], color=colors[i-1], alpha=.1)\n",
    "    print(np.any(np.isnan(v1_losses_dict[i])))\n",
    "    mean =  np.mean(v1_losses_dict[i], axis=0)\n",
    "    var = np.var(v1_losses_dict[i], axis=0)\n",
    "    ax.plot(range(1,1+max_epoch), mean, color=colors[i-1], label=labels[i-1])\n",
    "ax.set_yscale('log')\n",
    "ax.set(xlim=(1, max_epoch), ylim=(1e-15, 5e4))\n",
    "ax.set_xlabel(\"Epoch\", family='Computer Modern')\n",
    "ax.set_ylabel(\"Loss\", family='Computer Modern')\n",
    "# plt.legend(loc='upper center', bbox_to_anchor=(1.15, .8),\n",
    "#           fancybox=True, shadow=True, ncol=1, columnspacing=0.8, handletextpa\n",
    "plt.savefig(current_dir+\"//figures/noisylearning_loss_all.pdf\", bbox_inches=\"tight\")\n",
    "plt.savefig(current_dir+\"//figures/noisylearning_loss_all.png\", bbox_inches=\"tight\")"
   ]
  },
  {
   "cell_type": "code",
   "execution_count": 215,
   "id": "d396c019-0a20-43f2-a51d-df2e5822708d",
   "metadata": {},
   "outputs": [
    {
     "name": "stdout",
     "output_type": "stream",
     "text": [
      "20\n",
      "20\n",
      "20\n"
     ]
    },
    {
     "data": {
      "text/plain": [
       "Text(0, 0.5, 'Loss')"
      ]
     },
     "execution_count": 215,
     "metadata": {},
     "output_type": "execute_result"
    },
    {
     "data": {
      "image/png": "[encoded data removed]",
      "text/plain": [
       "<Figure size 600x400 with 1 Axes>"
      ]
     },
     "metadata": {},
     "output_type": "display_data"
    }
   ],
   "source": [
    "sns.set_context(\"notebook\", font_scale=1.25, rc={\"lines.linewidth\": 1})\n",
    "fig = plt.figure(figsize=(6,4))\n",
    "ax = plt.subplot(111)\n",
    "labels = ['iRNN', 'UBLA', 'BLA']\n",
    "colors = ['k', 'crimson', 'b']\n",
    "max_epoch = 11\n",
    "v1_losses_dict = {}\n",
    "for i in range(1,4):\n",
    "    exp_list = glob.glob(parent_dir+r\"\\experiments\\poisson_clicks\\noisy4\\exp*v%s*\"%i)\n",
    "    v1_losses_dict[i] = np.empty((len(exp_list), max_epoch))\n",
    "    print(len(exp_list))\n",
    "    for j,exp in enumerate(exp_list[:]):\n",
    "        learn_path = glob.glob(exp+'\\learning*')[0]\n",
    "        with open(learn_path, 'rb') as handle:\n",
    "            learning_info = pickle.load(handle)\n",
    "        v1_losses_dict[i][j, :] = learning_info['training_loss'][:max_epoch]\n",
    "        # plt.plot(v1_losses_dict[i][j, :], color=colors[i-1], alpha=.1)\n",
    "    mean =  np.mean(v1_losses_dict[i], axis=0)\n",
    "    var = np.var(v1_losses_dict[i], axis=0)\n",
    "    ax.plot(range(1,1+max_epoch), mean, color=colors[i-1], label=labels[i-1])\n",
    "ax.set_yscale('symlog')\n",
    "ax.set(xlim=(1, max_epoch), ylim=(1e-15, 5e4))\n",
    "ax.set_xlabel(\"Epoch\", family='Computer Modern')\n",
    "ax.set_ylabel(\"Loss\", family='Computer Modern')\n",
    "# plt.legend(loc='upper center', bbox_to_anchor=(1.15, .8),\n",
    "#           fancybox=True, shadow=True, ncol=1, columnspacing=0.8, handletextpad=.3)\n"
   ]
  },
  {
   "cell_type": "code",
   "execution_count": 251,
   "id": "ace6521f-c5e8-4cd3-a82f-04977cd36004",
   "metadata": {},
   "outputs": [
    {
     "data": {
      "image/png": "[encoded data removed]",
      "text/plain": [
       "<Figure size 500x300 with 1 Axes>"
      ]
     },
     "metadata": {},
     "output_type": "display_data"
    }
   ],
   "source": [
    "sns.set_context(\"notebook\", font_scale=1.25, rc={\"lines.linewidth\": 1})\n",
    "fig = plt.figure(figsize=(5,3))\n",
    "ax = plt.subplot(111)\n",
    "ax.set_prop_cycle(color=['k', 'crimson', 'b'])\n",
    "\n",
    "for i in range(1,4):\n",
    "    plt.step(np.arange(1,1+max_epoch), 100/20.*(np.sum(np.where(v1_losses_dict[i]>1.,1,0), axis=0)+np.sum(np.where(np.isnan(v1_losses_dict[i]),1,0), axis=0)), label=labels[i-1])\n",
    "ax.legend(loc='best',  fancybox=False, shadow=False, ncol=1, columnspacing=0.8, handletextpad=.3)\n",
    "ax.set_xlabel(\"Epoch\", family='Computer Modern')\n",
    "ax.set_ylabel(\"Percentage of explosions\", family='Computer Modern')\n",
    "ax.grid()\n",
    "plt.savefig(current_dir+\"//figures/noisylearning_cumulative.pdf\", bbox_inches=\"tight\")\n"
   ]
  },
  {
   "cell_type": "code",
   "execution_count": null,
   "id": "f4a8673b-7006-487c-af9d-18c3a5e5c3fc",
   "metadata": {},
   "outputs": [],
   "source": []
  },
  {
   "cell_type": "markdown",
   "id": "7804d062-976b-4512-b6ad-11e8219aed7a",
   "metadata": {},
   "source": [
    "#Produced with:\n",
    "python train_plot.py --fixed_cue_onsetandduration=5,1,5,1  --coherence_list=4 --task=poisson_clicks --loss_function=mse  --verbosity=True --optimizer=sgd --disable_cuda=True  --N_in=2 --N_out=1 --count_out=1D_uncued --dataloader_batch_size=1000 --output_activation=identity --learning_rate=1e-4 --max_epochs=10  --total_data_size=1000  --fixed_stim_duration=100 --sum_of_rates=40 --T=2000 --print_epoch=1  --stationary_data=True --continuous_clicks=True --load_model=v3 --input_noise=1e-6 --input_noise_startpulse_steps=10"
   ]
  },
  {
   "cell_type": "code",
   "execution_count": null,
   "id": "6413fd8f-353e-427e-a282-c56da3fe6b5a",
   "metadata": {},
   "outputs": [],
   "source": [
    "#v2 starts at 1684142713\n",
    "#v3 at 1684143726"
   ]
  },
  {
   "cell_type": "code",
   "execution_count": null,
   "id": "5e1c77a0-6c7a-4e65-b9a0-40fc690d1475",
   "metadata": {},
   "outputs": [],
   "source": []
  },
  {
   "cell_type": "code",
   "execution_count": 194,
   "id": "c4a9a1d2-4064-40fc-94bb-a948783ad66e",
   "metadata": {},
   "outputs": [
    {
     "data": {
      "text/plain": [
       "array([  0.        ,   0.        ,   0.        ,   0.        ,\n",
       "         0.        ,   0.        ,   0.        ,   0.        ,\n",
       "         0.        , 392.79632568,   0.        ,   0.        ,\n",
       "         0.        ,   0.        ,   0.        ,   0.        ,\n",
       "         0.        ,   0.        ,   0.        ,   0.        ])"
      ]
     },
     "execution_count": 194,
     "metadata": {},
     "output_type": "execute_result"
    }
   ],
   "source": [
    "v1_losses_dict[3][:,-1]"
   ]
  },
  {
   "cell_type": "code",
   "execution_count": null,
   "id": "91d2c86d-18c0-4731-aa6f-03f25214f18c",
   "metadata": {},
   "outputs": [],
   "source": []
  }
 ],
 "metadata": {
  "kernelspec": {
   "display_name": "Python 3 (ipykernel)",
   "language": "python",
   "name": "python3"
  },
  "language_info": {
   "codemirror_mode": {
    "name": "ipython",
    "version": 3
   },
   "file_extension": ".py",
   "mimetype": "text/x-python",
   "name": "python",
   "nbconvert_exporter": "python",
   "pygments_lexer": "ipython3",
   "version": "3.10.9"
  }
 },
 "nbformat": 4,
 "nbformat_minor": 5
}
