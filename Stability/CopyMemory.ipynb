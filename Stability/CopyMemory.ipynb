{
 "cells": [
  {
   "cell_type": "code",
   "execution_count": null,
   "id": "0704c254-8e05-4888-a057-a7caa22e49f5",
   "metadata": {},
   "outputs": [],
   "source": [
    "import matplotlib.pyplot as plt\n",
    "import numpy as np\n",
    "import seaborn as sns\n",
    "import torch\n",
    "import pickle\n",
    "import glob\n",
    "import os, sys\n",
    "import inspect\n",
    "current_dir = os.getcwd()\n",
    "parent_dir = os.path.dirname(current_dir)\n",
    "sys.path.insert(0, current_dir) \n",
    "\n",
    "# from utils import *\n",
    "from rnn_models import RNNModel"
   ]
  },
  {
   "cell_type": "code",
   "execution_count": null,
   "id": "d0c49cf4-3475-43fd-bf01-cb6de8dfda3f",
   "metadata": {},
   "outputs": [],
   "source": [
    "parent_dir"
   ]
  },
  {
   "cell_type": "markdown",
   "id": "473bffab-3dc7-4a7d-821c-9e62236b3731",
   "metadata": {},
   "source": [
    "##### blas\n",
    "\n",
    "python train_plot.py --task=copy_memory --loss_function=mse  --verbosity=True --optimizer=sgd --disable_cuda=True  --random_winout=win --dataloader_batch_size=1000 --output_activation=identity --hidden_initial_variance=0. --learning_rate=0.0003 --max_epochs=500 --load_model=blas --early_stopping_criterion_epochs=5000 --N_in=100 --N_symbols=2 --input_length=3 --N_blas=50 --total_data_size=50000"
   ]
  },
  {
   "cell_type": "markdown",
   "id": "e17ba587-2502-4eb7-8959-358421cf150c",
   "metadata": {},
   "source": [
    "##### qpta\n",
    "\n",
    "python train_plot.py --task=copy_memory --loss_function=mse  --verbosity=True --optimizer=sgd --disable_cuda=True  --random_winout=win --dataloader_batch_size=1000 --output_activation=identity --hidden_initial_variance=0. --learning_rate=0.0003 --max_epochs=500 --load_model=qpta --early_stopping_criterion_epochs=5000  --N_symbols=2 --input_length=3 --N_blas=50 --total_data_size=500"
   ]
  },
  {
   "cell_type": "markdown",
   "id": "878b9681-1eb6-4b83-b037-eabad31c39cb",
   "metadata": {},
   "source": [
    "##### ortho\n",
    "\n",
    "python train_plot.py --task=copy_memory --loss_function=mse  --verbosity=True --optimizer=sgd --disable_cuda=True  --random_winout=win --dataloader_batch_size=1000 --output_activation=identity --hidden_initial_variance=0. --learning_rate=0.0003 --max_epochs=500 --load_model=ortho --early_stopping_criterion_epochs=5000  --N_symbols=2 --input_length=3 --N_blas=50 --total_data_size=500"
   ]
  },
  {
   "cell_type": "markdown",
   "id": "92142139-1798-4b75-96e6-4df33e888f64",
   "metadata": {},
   "source": [
    "##### no initialization\n",
    "\n",
    "python train_plot.py --task=copy_memory --loss_function=mse  --verbosity=True --optimizer=sgd --disable_cuda=True  --random_winout=win --dataloader_batch_size=1000 --output_activation=identity --hidden_initial_variance=0. --learning_rate=0.0003 --max_epochs=500 --early_stopping_criterion_epochs=5000  --N_symbols=2 --input_length=3 --N_rec=100 --total_data_size=500"
   ]
  },
  {
   "cell_type": "code",
   "execution_count": null,
   "id": "a73e8d92-e0a5-4425-a6a0-33a3c3e10db1",
   "metadata": {},
   "outputs": [],
   "source": [
    "N_batch = 100\n",
    "delay = 12\n",
    "Nsymbols = 8\n",
    "input_length = 5\n",
    "inputs = np.zeros((N_batch, delay+2*input_length, Nsymbols+2))\n",
    "\n",
    "onehot_matrix = np.eye(Nsymbols+2)\n",
    "onehot_input_symbols = onehot_matrix[:-2]\n",
    "input_sequence = onehot_input_symbols[np.random.choice(Nsymbols, size=(N_batch, input_length))]\n",
    "inputs[:,:input_length,:] = input_sequence\n",
    "inputs[:,input_length:-1-input_length,:] = onehot_matrix[-2,:]\n",
    "inputs[:,-1-input_length,:] = onehot_matrix[-1,:]"
   ]
  },
  {
   "cell_type": "code",
   "execution_count": null,
   "id": "8b585b9c-a634-4731-9367-a192523dbfc7",
   "metadata": {},
   "outputs": [],
   "source": [
    "exp_list = glob.glob(parent_dir+\"\\\\experiments\\\\copy_memory\\\\exp_mse_sgd_168365371*\")#list experiment folders\n",
    "exp_list = glob.glob(parent_dir+\"\\\\experiments\\\\copy_memory\\\\exp_mse_sgd_1683735193\") #100.000 blas\n",
    "# exp_list = glob.glob(parent_dir+\"\\\\cit_for_computation\\\\experiments\\\\copy_memory\\\\exp_mse_sgd_1683741821\") #100.000 identity\n",
    "\n",
    "exp_list = sorted(exp_list, key = lambda x: int(x[-10:]))\n",
    "exp_path = exp_list[-1]\n",
    "with open(exp_path + '\\\\training_kwargs.pickle', 'rb') as handle:\n",
    "    training_kwargs = pickle.load(handle)\n",
    "\n",
    "training_kwargs['exp_path'] = exp_path\n",
    "training_kwargs['training_weights_path'] = exp_path + '/training/'\n",
    "training_kwargs['figures_path'] = exp_path + '//figures/'\n",
    "# training_kwargs['input_noise_startpulse_steps'] = 1\n",
    "\n",
    "with open(training_kwargs['exp_path'] + '/learning_info.pickle', 'rb') as handle:\n",
    "    learning_info = pickle.load(handle)\n",
    "    \n",
    "with open(training_kwargs['exp_path'] + '/dataset.pickle', 'rb') as handle:\n",
    "    dataset = pickle.load(handle)\n",
    "    \n",
    "# training_kwargs['N_rec'] = 100\n",
    "rnn_model = RNNModel(training_kwargs['N_in'], training_kwargs['N_out'], training_kwargs['N_rec'], n_layers=1, transform_function='relu', constrain_spectrum=training_kwargs['constrain_spectrum']).to(training_kwargs['device'])\n",
    "rnn_model.load_state_dict(torch.load(training_kwargs['exp_path']+'\\\\weights%s.pth'%training_kwargs['idx'], map_location=torch.device(training_kwargs['device'])))\n",
    "# rnn_model.rnn.all_weights[0][2][:]"
   ]
  },
  {
   "cell_type": "code",
   "execution_count": null,
   "id": "a74d1b79-06fc-4e71-b468-b9367b3c60be",
   "metadata": {},
   "outputs": [],
   "source": [
    "exp_list = glob.glob(parent_dir+\"\\\\experiments\\\\copy_memory\\\\*1683828944*\")\n",
    "\n",
    "exp_list = sorted(exp_list, key = lambda x: int(x[-10:]))\n",
    "exp_path = exp_list[-1]\n",
    "training_kwargs['exp_path'] = exp_path\n",
    "with open(training_kwargs['exp_path'] + '/learning_info.pickle', 'rb') as handle:\n",
    "    learning_info = pickle.load(handle)\n",
    "with open(exp_path + '\\\\training_kwargs.pickle', 'rb') as handle:\n",
    "    training_kwargs = pickle.load(handle)\n",
    "with open(training_kwargs['exp_path'] + '/dataset.pickle', 'rb') as handle:\n",
    "    dataset = pickle.load(handle)\n",
    "[train_set, test_set] = dataset \n",
    "x, y, _, _ = train_set\n",
    "\n",
    "sns.set_context(\"notebook\", font_scale=1.25, rc={\"lines.linewidth\": 1})\n",
    "fig = plt.figure(figsize=(6,4))\n",
    "ax = plt.subplot(111)\n",
    "\n",
    "ax.plot(learning_info['training_loss'])\n",
    "ax.plot(learning_info['validation_loss'])\n",
    "ax.set_xlabel(\"Epoch\")\n",
    "ax.set_ylabel(\"Loss\")\n",
    "ax.set_yscale(\"log\")\n",
    "\n",
    "training_kwargs['hidden_initial_activations'] = 'offset'\n",
    "rnn_model = RNNModel(training_kwargs['N_in'], training_kwargs['N_out'], training_kwargs['N_rec'], hidden_initial_activations=training_kwargs['hidden_initial_activations'], n_layers=1, transform_function='relu', constrain_spectrum=training_kwargs['constrain_spectrum']).to(training_kwargs['device'])\n",
    "rnn_model.load_state_dict(torch.load(training_kwargs['exp_path']+'\\\\weights%s.pth'%training_kwargs['idx'], map_location=torch.device(training_kwargs['device'])))\n",
    "# rnn_model.load_state_dict(torch.load(r'C:\\Users\\abel_\\Documents\\Rotations\\CIT\\cit_for_computation\\experiments\\copy_memory\\exp_mse_sgd_idx1_1683811835\\weights1.pth', map_location=torch.device(training_kwargs['device'])))\n",
    "training_kwargs['exp_path'], training_kwargs['hidden_initial_activations'], training_kwargs['output_activation']"
   ]
  },
  {
   "cell_type": "code",
   "execution_count": null,
   "id": "8be95cec-28f7-4028-9152-8ec4178e8cda",
   "metadata": {},
   "outputs": [],
   "source": [
    "# train_size = 500\n",
    "# N_symbols = training_kwargs['N_symbols']\n",
    "# input_length = training_kwargs['input_length']+0\n",
    "# delay = training_kwargs['delay']\n",
    "# train_set = create_copy_memory_trials_onehot(train_size, N_symbols, input_length, delay)\n",
    "# x, y, _, _ = train_set\n",
    "# x.shape, y.shape, yhat.shape\n",
    "batch_size = x.shape[0]\n",
    "inputs = torch.tensor(x, dtype=torch.float)\n",
    "targets = torch.tensor(y, dtype=torch.float)\n",
    "yhat, _ = rnn_model(inputs)\n",
    "yhat = yhat.detach().numpy()"
   ]
  },
  {
   "cell_type": "code",
   "execution_count": null,
   "id": "5ad08fa2-5ec5-4027-bcf6-3570f625c2d4",
   "metadata": {},
   "outputs": [],
   "source": [
    "import matplotlib.colors as mcolors\n",
    "\n",
    "colors = list(mcolors.TABLEAU_COLORS.values())"
   ]
  },
  {
   "cell_type": "code",
   "execution_count": null,
   "id": "526dd903-6a03-4854-ac3f-6b66e0158214",
   "metadata": {},
   "outputs": [],
   "source": [
    "batch_i = 129\n",
    "for sym_i in range(training_kwargs['N_symbols']):\n",
    "    plt.plot(x[batch_i][:,sym_i], '+', color=colors[sym_i], label='Input %d'%sym_i)\n",
    "# plt.plot(x[batch_i][:,1], 'r+', label='Input 2')\n",
    "\n",
    "for sym_i in range(training_kwargs['N_symbols']):\n",
    "    plt.plot(y[batch_i][:,sym_i], 'o', color=colors[sym_i], label='Target %d'%sym_i)\n",
    "# plt.plot(y[batch_i][:,0], 'bo', label='Target 1')\n",
    "# plt.plot(y[batch_i][:,1], 'ro', label='Target 2')\n",
    "\n",
    "for sym_i in range(training_kwargs['N_symbols']):\n",
    "    plt.plot(yhat[batch_i][:,sym_i], '-x', color=colors[sym_i], label='Output  %d'%sym_i)\n",
    "# plt.plot(yhat[batch_i][:,0], 'b-x', label='Output 1')\n",
    "# plt.plot(yhat[batch_i][:,1], 'r-x', label='Output 2')\n",
    "\n",
    "plt.xlabel(\"Time step\")\n",
    "plt.legend(loc='upper center', bbox_to_anchor=(0.5, -0.15),\n",
    "          fancybox=True, shadow=True, ncol=3, columnspacing=0.8, handletextpad=.3)\n",
    "plt.savefig(current_dir+\"//figures/copy_output.pdf\", bbox_inches=\"tight\")\n",
    "plt.savefig(current_dir+\"//figures/copy_output.png\", bbox_inches=\"tight\")"
   ]
  },
  {
   "cell_type": "code",
   "execution_count": null,
   "id": "a185bf0f-5f11-4b36-a7ad-af7ad7008229",
   "metadata": {},
   "outputs": [],
   "source": [
    "hidden = rnn_model.hidden_offset.repeat(rnn_model.n_layers,batch_size,1).reshape((rnn_model.n_layers, batch_size, rnn_model.hidden_dim))\n",
    "\n",
    "# hidden = rnn_model.offset_tensor+0*torch.normal(0, training_kwargs['hidden_initial_variance'], (rnn_model.n_layers, inputs.shape[0], rnn_model.hidden_dim)).to(training_kwargs['device']) \n",
    "# hidden = training_kwargs['hidden_offset']+torch.normal(0, training_kwargs['hidden_initial_variance'], (rnn_model.n_layers, inputs.shape[0], rnn_model.hidden_dim)).to(training_kwargs['device']) \n",
    "\n",
    "hidden_states, hidden_last = rnn_model.rnn(inputs, hidden)\n",
    "yhat = rnn_model.out_act(rnn_model.fc(hidden_states))\n",
    "print(torch.log(torch.mean(targets.view(-1,training_kwargs['N_out'])-yhat.view(-1,training_kwargs['N_out']))**2))\n",
    "yhat = yhat.cpu().detach().numpy()\n",
    "hidden_states = hidden_states.cpu().detach().numpy()"
   ]
  },
  {
   "cell_type": "code",
   "execution_count": null,
   "id": "91f85acc-d35d-4d5d-a48a-d1ffcdbfcaff",
   "metadata": {},
   "outputs": [],
   "source": [
    "# plt.plot(x[0][:,0], 'bo')\n",
    "# plt.plot(x[0][:,1], 'rx')\n",
    "# plt.plot(x[0][:,2], 'rx')\n",
    "# plt.plot(x[0][:,3], 'r+')"
   ]
  },
  {
   "cell_type": "code",
   "execution_count": null,
   "id": "9b246742-3f5e-4332-b2e8-4b1a6f78b455",
   "metadata": {},
   "outputs": [],
   "source": []
  },
  {
   "cell_type": "code",
   "execution_count": null,
   "id": "1932af0d-654b-496f-8c13-68a3bff31a7a",
   "metadata": {},
   "outputs": [],
   "source": []
  },
  {
   "cell_type": "code",
   "execution_count": null,
   "id": "bb85ac08-42c2-4bfc-885a-5fb83016a8cf",
   "metadata": {},
   "outputs": [],
   "source": [
    "# rnn_model.fc.bias\n",
    "# plt.matshow(rnn_model.rnn.all_weights[0][1][:].detach().numpy(), cmap='winter')\n",
    "# # plt.matshow(np.log(np.abs(rnn_model.rnn.all_weights[0][1][:].detach().numpy())), cmap='winter')\n",
    "\n",
    "# plt.colorbar()\n",
    "# plt.matshow(rnn_model.offset_tensor.detach().numpy().reshape(1,-1))\n",
    "# plt.matshow(rnn_model.rnn.all_weights[0][0][:].detach().numpy().T)\n",
    "# plt.colorbar()"
   ]
  },
  {
   "cell_type": "code",
   "execution_count": null,
   "id": "b99aa2cf-12dd-48dc-92e6-d96580dd5d8d",
   "metadata": {},
   "outputs": [],
   "source": [
    "sns.set_context(\"notebook\", font_scale=1.25, rc={\"lines.linewidth\": 1})\n",
    "fig = plt.figure(figsize=(6,4))\n",
    "ax = plt.subplot(111)\n",
    "\n",
    "exp_list = glob.glob(parent_dir+\"\\\\cit_for_computation\\\\experiments\\\\copy_memory\\\\exp_mse_sgd_1683735193\") #100.000 blas\n",
    "exp_list = sorted(exp_list, key = lambda x: int(x[-10:]))\n",
    "exp_path = exp_list[-1]\n",
    "training_kwargs['exp_path'] = exp_path\n",
    "with open(training_kwargs['exp_path'] + '/learning_info.pickle', 'rb') as handle:\n",
    "    learning_info = pickle.load(handle)\n",
    "with open(exp_path + '\\\\training_kwargs.pickle', 'rb') as handle:\n",
    "    training_kwargs = pickle.load(handle)\n",
    "# ax.plot(learning_info['training_loss'])\n",
    "ax.plot(learning_info['validation_loss'], label=\"BLAS\")\n",
    "\n",
    "\n",
    "exp_list = glob.glob(parent_dir+\"\\\\cit_for_computation\\\\experiments\\\\copy_memory\\\\exp_mse_sgd_1683741821\") #100.000 identity\n",
    "exp_list = sorted(exp_list, key = lambda x: int(x[-10:]))\n",
    "exp_path = exp_list[-1]\n",
    "with open(exp_path + '\\\\training_kwargs.pickle', 'rb') as handle:\n",
    "    training_kwargs = pickle.load(handle)\n",
    "\n",
    "training_kwargs['exp_path'] = exp_path\n",
    "with open(training_kwargs['exp_path'] + '/learning_info.pickle', 'rb') as handle:\n",
    "    learning_info = pickle.load(handle)\n",
    "ax.plot(learning_info['training_loss'])\n",
    "ax.plot(learning_info['validation_loss'], label=\"iRNN\")\n",
    "ax.set_xlabel(\"Epoch\")\n",
    "ax.set_ylabel(\"Loss\")\n",
    "ax.set_yscale(\"log\")\n",
    "# ax.set_ticklabel_format(style='sci', axis='x', scilimits=(0,0))\n",
    "\n",
    "ax.legend()\n",
    "plt.savefig(current_dir+\"//figures/copy_loss_all.pdf\", bbox_inches=\"tight\")\n",
    "plt.savefig(current_dir+\"//figures/copy_loss_all.png\", bbox_inches=\"tight\")"
   ]
  }
 ],
 "metadata": {
  "kernelspec": {
   "display_name": "Python 3 (ipykernel)",
   "language": "python",
   "name": "python3"
  },
  "language_info": {
   "codemirror_mode": {
    "name": "ipython",
    "version": 3
   },
   "file_extension": ".py",
   "mimetype": "text/x-python",
   "name": "python",
   "nbconvert_exporter": "python",
   "pygments_lexer": "ipython3",
   "version": "3.10.9"
  }
 },
 "nbformat": 4,
 "nbformat_minor": 5
}
