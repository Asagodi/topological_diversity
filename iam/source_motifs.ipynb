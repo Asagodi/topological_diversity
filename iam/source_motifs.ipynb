{
 "cells": [
  {
   "cell_type": "code",
   "execution_count": null,
   "id": "af45a219",
   "metadata": {},
   "outputs": [],
   "source": [
    "import torch\n",
    "from torchdiffeq import odeint\n",
    "import torch.nn.functional as F\n",
    "import torch.nn as nn\n",
    "import torch.optim as optim\n",
    "device = torch.device(\"cuda\" if torch.cuda.is_available() else \"cpu\")\n",
    "import time, os, sys\n",
    "import numpy as np\n",
    "import pickle\n",
    "from scripts.utils import set_seed\n",
    "from scripts.ds_class import *\n",
    "from scripts.homeos import *\n",
    "from scripts.plotting import *\n",
    "from scripts.fit_motif import *\n",
    "from scripts.time_series import *\n",
    "from scripts.exp_tools import *\n",
    "\n",
    "import matplotlib as mpl\n",
    "import matplotlib.pyplot as plt\n",
    "import matplotlib.colors as mcolors\n",
    "from matplotlib.ticker import MaxNLocator\n",
    "import seaborn as sns\n",
    "\n",
    "set_seed(313)\n",
    "save_dir = 'experiments/all_sources'\n",
    "fig_dir = 'figures/all_sources'\n",
    "if not os.path.exists(save_dir):\n",
    "    os.makedirs(save_dir)\n",
    "if not os.path.exists(fig_dir):\n",
    "    os.makedirs(fig_dir)\n",
    "\n",
    "dt=0.01\n",
    "time_span=torch.tensor([0, 1])\n",
    "simulation_params = {\n",
    "        'initial_conditions_mode': 'random',\n",
    "        'number_of_target_trajectories': 50,\n",
    "        'time_span': time_span,\n",
    "        'dt': dt,\n",
    "        'noise_std': 0.0,\n",
    "        'training_pairs': False,\n",
    "        'margin': 0.5,\n",
    "        'seed': 42,\n",
    "        'train_ratio': .8    }\n",
    "\n",
    "def torus_4d_to_3d(torus_4d: np.ndarray, R: float = 2.0, r: float = 1.0) -> np.ndarray:\n",
    "    \"\"\"\n",
    "    Converts 4D embedded torus points (cosθ, sinθ, cosφ, sinφ) into 3D torus coordinates.\n",
    "    \n",
    "    Args:\n",
    "        torus_4d: np.ndarray of shape (N, 4)\n",
    "        R: Major radius of the torus\n",
    "        r: Minor radius of the torus\n",
    "\n",
    "    Returns:\n",
    "        np.ndarray of shape (N, 3)\n",
    "    \"\"\"\n",
    "    x1, x2, x3, x4 = torus_4d[:, 0], torus_4d[:, 1], torus_4d[:, 2], torus_4d[:, 3]\n",
    "\n",
    "    theta = np.arctan2(x2, x1)\n",
    "    phi = np.arctan2(x4, x3)\n",
    "\n",
    "    x = (R + r * np.cos(phi)) * np.cos(theta)\n",
    "    y = (R + r * np.cos(phi)) * np.sin(theta)\n",
    "    z = r * np.sin(phi)\n",
    "\n",
    "    return np.stack([x, y, z], axis=-1)\n"
   ]
  },
  {
   "cell_type": "code",
   "execution_count": null,
   "id": "58791ea6",
   "metadata": {},
   "outputs": [],
   "source": []
  },
  {
   "cell_type": "markdown",
   "id": "e423909e",
   "metadata": {},
   "source": [
    "## Bistable"
   ]
  },
  {
   "cell_type": "code",
   "execution_count": null,
   "id": "92a8f448",
   "metadata": {},
   "outputs": [],
   "source": [
    "dim=2\n",
    "dt=0.01\n",
    "time_span=torch.tensor([0, 1])\n",
    "#make system \n",
    "generator_sys = LearnableNDBistableSystem(dim=dim, dt=dt, time_span=time_span, alpha_init=-3) \n",
    "init_conds = generate_initial_conditions(sampling_method='uniform', num_points=50, bounds=[(-1.5, 1.5)]*2, seed=simulation_params['seed'])\n",
    "bi_traj = generator_sys.compute_trajectory(init_conds).detach().numpy()\n",
    "\n",
    "X, Y, U, V = get_ds_vf(generator_sys, bounds=[-1.5, 1.5], num_points=15)\n",
    "magnitude = np.sqrt(U**2 + V**2)\n",
    "max_magnitude = 1.0 # Clip VF magnitudes for visualization\n",
    "scaling = np.minimum(1.0, max_magnitude / (magnitude + 1e-8))  # avoid division by zero\n",
    "U_clipped = U * scaling\n",
    "V_clipped = V * scaling\n",
    "inv_man = generator_sys.invariant_manifold().detach().numpy()\n",
    "fig, ax = plt.subplots(1, 1, figsize=(5, 5))\n",
    "ax.quiver(X, Y, U_clipped, V_clipped, color='gray', alpha=0.95, scale=25)\n",
    "for i in range(0, len(bi_traj)):\n",
    "    ax.plot(bi_traj[i, :, 0], bi_traj[i, :, 1], '-', color='darkblue', markersize=2, alpha=0.5, label='Trajectory' if i==0 else \"\")\n",
    "\n",
    "ax.scatter(inv_man[0,0], inv_man[0,1], color='firebrick', zorder=10);\n",
    "ax.scatter(inv_man[1,0], inv_man[1,1], color='firebrick', zorder=10, label='Invariant manifold');\n",
    "ax.legend()\n",
    "ax.set_xlabel('x')\n",
    "ax.set_ylabel('y')\n",
    "ax.set_xlim(-1.5, 1.5)\n",
    "ax.set_ylim(-1.5, 1.5)\n",
    "plt.tight_layout()\n",
    "plt.savefig(os.path.join(fig_dir, 'bistable_2d.pdf'), dpi=300)"
   ]
  },
  {
   "cell_type": "markdown",
   "id": "ce90e627",
   "metadata": {},
   "source": [
    "## Limit cycle"
   ]
  },
  {
   "cell_type": "code",
   "execution_count": null,
   "id": "2a286d8c",
   "metadata": {},
   "outputs": [],
   "source": [
    "dt = 0.01\n",
    "dim = 2\n",
    "time_span = torch.tensor([0.0, 5.])\n",
    "init_conds = generate_initial_conditions(sampling_method='uniform', num_points=25, bounds=[(-1.5, 1.5)]*dim, seed=simulation_params['seed'])\n",
    "generator_sys = LearnableNDLimitCycle(dim=dim, dt=dt, time_span=time_span, velocity_init=None, alpha_init=None)\n",
    "trajectories = generator_sys.compute_trajectory(init_conds).detach().numpy()\n",
    "inv_man = generator_sys.invariant_manifold().detach().numpy()\n",
    "\n",
    "X, Y, U, V = get_ds_vf(generator_sys, bounds=[-1.5, 1.5], num_points=15)\n",
    "magnitude = np.sqrt(U**2 + V**2)\n",
    "max_magnitude = 1.0 # Clip VF magnitudes for visualization\n",
    "scaling = np.minimum(1.0, max_magnitude / (magnitude + 1e-8))  # avoid division by zero\n",
    "U_clipped, V_clipped = U * scaling, V * scaling\n",
    "inv_man = generator_sys.invariant_manifold().detach().numpy()\n",
    "fig, ax = plt.subplots(1, 1, figsize=(5, 5))\n",
    "ax.quiver(X, Y, U_clipped, V_clipped, color='gray', alpha=0.95, scale=25)\n",
    "for i in range(0, len(trajectories)):\n",
    "    ax.plot(trajectories[i, :, 0], trajectories[i, :, 1], '-', color='darkblue', markersize=2, alpha=0.5, label='Trajectory' if i==0 else \"\")\n",
    "\n",
    "ax.plot(inv_man[:,0], inv_man[:,1], color='firebrick', lw=2, zorder=10, label='Invariant manifold');\n",
    "ax.legend()\n",
    "ax.set_xlabel('x')\n",
    "ax.set_ylabel('y')\n",
    "ax.set_xlim(-1.5, 1.5)\n",
    "ax.set_ylim(-1.5, 1.5)\n",
    "plt.tight_layout()\n",
    "plt.savefig(os.path.join(fig_dir, 'lc_2d.pdf'), dpi=300)"
   ]
  },
  {
   "cell_type": "code",
   "execution_count": null,
   "id": "83f9f258",
   "metadata": {},
   "outputs": [],
   "source": [
    "# dt = 0.01\n",
    "# time_span = torch.tensor([0.0, 2.])\n",
    "# init_conds = generate_initial_conditions(sampling_method='uniform', num_points=100, bounds=[(-1.5, 1.5)]*3, seed=simulation_params['seed'])\n",
    "# generator_ra = AnalyticalLimitCycle(dim=3, dt=dt, time_span=time_span, velocity_init=-1, alpha_init=-1)\n",
    "# print(generator_ra.dim)\n",
    "# alc = generator_ra.compute_trajectory(torch.tensor(init_conds, dtype=torch.float32)).detach().numpy()\n",
    "# plot_trajectories_3d([alc], elev=45, azim=90)\n",
    "# # fig, ax = plt.subplots(figsize=(5, 5))\n",
    "# # for i in range(alc.shape[0]):\n",
    "# #     if i % 10 == 0:\n",
    "# #         ax.plot(alc[i, :, 0], alc[i, :, 1], 'o', color='black', markersize=2, alpha=0.5)\n",
    "# # plt.show()\n",
    "# # fig, ax = plt.subplots(figsize=(5, 5))\n",
    "# # for i in range(alc.shape[0]):\n",
    "# #     if i % 10 == 0:\n",
    "# #         ax.plot(alc[i, :, 2],'o', color='black', markersize=2, alpha=0.5)\n",
    "# # plt.show()"
   ]
  },
  {
   "cell_type": "markdown",
   "id": "13a82c9f",
   "metadata": {},
   "source": [
    "## Ring attractor"
   ]
  },
  {
   "cell_type": "code",
   "execution_count": null,
   "id": "81dcb43e",
   "metadata": {},
   "outputs": [],
   "source": [
    "time_span = torch.tensor([0.0, 5.])\n",
    "generator_sys = LearnableNDRingAttractor(dim=2, dt=dt, time_span=time_span)\n",
    "init_conds = generate_initial_conditions(sampling_method='uniform', num_points=50, bounds=[(-1.5, 1.5)]*2, seed=simulation_params['seed'])\n",
    "ra_trajs = generator_sys.compute_trajectory(init_conds).detach().numpy()\n",
    "inv_man = generator_sys.invariant_manifold().detach().numpy();\n",
    "X, Y, U, V = get_ds_vf(generator_sys, bounds=[-1.5, 1.5], num_points=1)\n",
    "magnitude = np.sqrt(U**2 + V**2)\n",
    "max_magnitude = .2\n",
    "scaling = np.minimum(1.0, max_magnitude / (magnitude + 1e-8))  # avoid division by zero\n",
    "U_clipped, V_clipped = U * scaling, V * scaling\n",
    "fig, ax = plt.subplots(1, 1, figsize=(5, 5))\n",
    "ax.quiver(X, Y, U_clipped, V_clipped, color='gray', alpha=0.95, scale=5)\n",
    "for i in range(0, len(ra_trajs)):\n",
    "    ax.plot(ra_trajs[i, :, 0], ra_trajs[i, :, 1], '-', color='darkblue', markersize=2, alpha=0.5)\n",
    "ax.plot(inv_man[:,0], inv_man[:,1], color='firebrick', lw=2, zorder=10, label='Invariant manifold');\n",
    "plt.savefig(os.path.join(fig_dir, 'ra_2d.pdf'), dpi=300)"
   ]
  },
  {
   "cell_type": "code",
   "execution_count": null,
   "id": "55662827",
   "metadata": {},
   "outputs": [],
   "source": []
  },
  {
   "cell_type": "markdown",
   "id": "e69af3aa",
   "metadata": {},
   "source": [
    "## 2 Bounded Line attractors"
   ]
  },
  {
   "cell_type": "code",
   "execution_count": null,
   "id": "11f9de9f",
   "metadata": {},
   "outputs": [],
   "source": [
    "bi_sys = LearnableNDBistableSystem(dim=1, dt=dt, time_span=time_span) \n",
    "la = LearnableBoundedContinuousAttractor(dim=1,bca_dim=1,dt=0.05,time_span=(0, 5))\n",
    "# Combine them into a composite system\n",
    "systems = [bi_sys, la]\n",
    "dims = [bi_sys.dim, la.dim]\n",
    "composite_system = LearnableCompositeSystem(systems=systems,dims=dims,dt=0.05,time_span=(0, 5))\n",
    "\n",
    "init_conds = generate_initial_conditions(sampling_method='uniform',bounds=[(-1.5, 1.5)]*sum(dims),num_points= simulation_params['number_of_target_trajectories'],seed=simulation_params['seed'])\n",
    "bila_trajs = composite_system.compute_trajectory(init_conds).detach().numpy()\n",
    "inv_man = composite_system.invariant_manifold(100).detach().numpy() "
   ]
  },
  {
   "cell_type": "code",
   "execution_count": null,
   "id": "553ca69a",
   "metadata": {},
   "outputs": [],
   "source": [
    "X, Y, U, V = get_ds_vf(composite_system, bounds=[-1.3, 1.3], num_points=15)\n",
    "\n",
    "fig, ax = plt.subplots(1, 1, figsize=(5, 5))\n",
    "ax.quiver(X, Y, U, V, color='gray', alpha=0.95, scale=15)\n",
    "set_seed(313)\n",
    "\n",
    "for i in range(bila_trajs.shape[0]):\n",
    "    ax.plot(bila_trajs[i, :, 0], bila_trajs[i, :, 1], '-', color='darkblue', label='Trajectory' if i == 0 else \"\", markersize=2, alpha=0.5)\n",
    "\n",
    "ax.plot(inv_man[:, 0], inv_man[:, 1], '.', color='C3', lw=2, label='Invariant Manifold')\n",
    "ax.set_xlabel('X')\n",
    "ax.set_ylabel('Y')\n",
    "ax.set_xlim([-1.5, 1.5])\n",
    "ax.set_ylim([-1.5, 1.5])\n",
    "ax.set_xticks([-1.5, 1.5], [-1.5, 1.5])\n",
    "ax.set_yticks([-1.5, 1.5], [-1.5, 1.5])\n",
    "ax.set_aspect('equal')\n",
    "#ax.set_title('Bistable System')\n",
    "ax.legend(loc='lower right') #, bbox_to_anchor=(0.5, -0.2), ncol=2, fontsize=10)\n",
    "plt.savefig(fig_dir + '/twoblas_system.pdf', bbox_inches='tight')\n"
   ]
  },
  {
   "cell_type": "code",
   "execution_count": null,
   "id": "50dce41b",
   "metadata": {},
   "outputs": [],
   "source": []
  },
  {
   "cell_type": "code",
   "execution_count": null,
   "id": "c6fa6d30",
   "metadata": {},
   "outputs": [],
   "source": []
  },
  {
   "cell_type": "code",
   "execution_count": null,
   "id": "fc6ce60e",
   "metadata": {},
   "outputs": [],
   "source": []
  },
  {
   "cell_type": "code",
   "execution_count": null,
   "id": "84862425",
   "metadata": {},
   "outputs": [],
   "source": []
  },
  {
   "cell_type": "code",
   "execution_count": null,
   "id": "04405a98",
   "metadata": {},
   "outputs": [],
   "source": []
  },
  {
   "cell_type": "code",
   "execution_count": null,
   "id": "1b4d6ccb",
   "metadata": {},
   "outputs": [],
   "source": []
  },
  {
   "cell_type": "markdown",
   "id": "6e0a26a9",
   "metadata": {},
   "source": [
    "### Ring attractor with vector field"
   ]
  },
  {
   "cell_type": "code",
   "execution_count": null,
   "id": "5592146b",
   "metadata": {},
   "outputs": [],
   "source": [
    "ra_vfp = LearnableNDRingAttractor(dim=2, dt=dt, time_span=time_span*10, vf_on_ring_enabled=True)\n",
    "\n",
    "#TrainablePeriodicFunction\n",
    "init_conds = generate_initial_conditions(sampling_method='uniform', num_points=10, bounds=[(-1.25, 1.25)]*2, seed=simulation_params['seed'])\n",
    "ra_trajs = ra_vfp.compute_trajectory(torch.tensor(init_conds, dtype=torch.float32)).detach().numpy()\n",
    "inv_man = ra_vfp.invariant_manifold().detach().numpy();"
   ]
  },
  {
   "cell_type": "code",
   "execution_count": null,
   "id": "8d77b006",
   "metadata": {},
   "outputs": [],
   "source": [
    "xs = np.linspace(0, 2*np.pi,25)\n",
    "vf_xs = ra_vfp.vf_on_ring(torch.tensor(xs)).detach().numpy()\n",
    "vf_xs_tang_x = -vf_xs * np.sin(xs)\n",
    "vf_xs_tang_y = vf_xs * np.cos(xs)"
   ]
  },
  {
   "cell_type": "code",
   "execution_count": null,
   "id": "305158eb",
   "metadata": {},
   "outputs": [],
   "source": [
    "fig, ax = plt.subplots(1, 1, figsize=(5, 5))\n",
    "ax.set_xlim(-1.5, 1.5)\n",
    "ax.set_ylim(-1.5, 1.5)\n",
    "for i in range(ra_trajs.shape[0]):\n",
    "    ax.plot(ra_trajs[i, :, 0], ra_trajs[i, :, 1], '-', color='darkblue', markersize=2, alpha=0.5, zorder=100)\n",
    "\n",
    "ax.quiver(np.cos(xs), np.sin(xs), vf_xs_tang_x, vf_xs_tang_y, color='firebrick', scale=.5)\n",
    "ax.plot(inv_man[:, 0], inv_man[:, 1], '-', color='firebrick', markersize=2, alpha=0.5)\n",
    "ax.set_aspect('equal')\n",
    "ax.set_xlabel('x', fontsize=20)\n",
    "ax.set_ylabel('y', fontsize=20)\n",
    "ax.set_xticks([-1.5,1.5], [-1.5,1.5])\n",
    "ax.set_yticks([-1.5,1.5], [-1.5,1.5]);"
   ]
  },
  {
   "cell_type": "code",
   "execution_count": null,
   "id": "36cbcc3a",
   "metadata": {},
   "outputs": [],
   "source": []
  },
  {
   "cell_type": "code",
   "execution_count": null,
   "id": "6b3cd8cf",
   "metadata": {},
   "outputs": [],
   "source": []
  },
  {
   "cell_type": "code",
   "execution_count": null,
   "id": "0a5b7b43",
   "metadata": {},
   "outputs": [],
   "source": []
  },
  {
   "cell_type": "code",
   "execution_count": null,
   "id": "9b8101c2",
   "metadata": {},
   "outputs": [],
   "source": []
  },
  {
   "cell_type": "markdown",
   "id": "1c316c1a",
   "metadata": {},
   "source": [
    "# 2D attractors in 3D"
   ]
  },
  {
   "cell_type": "markdown",
   "id": "ff075a43",
   "metadata": {},
   "source": [
    "## Sphere"
   ]
  },
  {
   "cell_type": "code",
   "execution_count": null,
   "id": "868e5879",
   "metadata": {},
   "outputs": [],
   "source": [
    "dim = 3\n",
    "sphere_dim = 2\n",
    "ds_params = {\n",
    "        'ds_motif': 'sphere', 'dim': dim, 'dt': dt, 'time_span': time_span,\n",
    "        'analytic': False, 'sphere_dim':sphere_dim}\n",
    "generator_sphere = LearnableSphereAttractor(dim=dim, sphere_dim=sphere_dim, dt=dt, time_span=time_span) \n",
    "generator_sphere = AnalyticalSphereAttractor(dim=dim, sphere_dim=sphere_dim, dt=dt, time_span=time_span) \n",
    "\n",
    "init_conds = generate_initial_conditions(\n",
    "    sampling_method='uniform',\n",
    "    bounds=[(-1.5, 1.5)]*3,\n",
    "    num_points= simulation_params['number_of_target_trajectories'],\n",
    "    seed=simulation_params['seed'])\n",
    "sphere_trajs = generator_sphere.compute_trajectory(init_conds);\n",
    "inv_man = generator_sphere.invariant_manifold().detach().numpy();"
   ]
  },
  {
   "cell_type": "code",
   "execution_count": null,
   "id": "afa13536",
   "metadata": {},
   "outputs": [],
   "source": [
    "#plot invariant manifold\n",
    "fig, ax = plt.subplots(figsize=(5, 5), subplot_kw={'projection': '3d'})\n",
    "ax.set_box_aspect([1, 1, 1])  # aspect ratio is 1:1:1\n",
    "for i in range(sphere_trajs.shape[0]):\n",
    "    ax.plot(sphere_trajs[i, :, 0], sphere_trajs[i, :, 1], sphere_trajs[i,:,2], '-', color='black', markersize=2, alpha=0.5, zorder=100, label='trajectory' if i == 0 else \"\")\n",
    "ax.set_xlabel('X')\n",
    "ax.set_ylabel('Y')\n",
    "ax.set_zlabel('Z')\n",
    "ax.set_xlim([-1.5, 1.5])\n",
    "ax.set_ylim([-1.5, 1.5])\n",
    "ax.set_zlim([-1.5, 1.5])\n",
    "ax.set_xticks([-1.5, 1.5], [-1.5, 1.5])\n",
    "ax.set_yticks([-1.5, 1.5], [-1.5, 1.5])\n",
    "ax.set_zticks([-1.5, 1.5], [-1.5, 1.5])\n",
    "ax.view_init(elev=20, azim=30)\n",
    "ax.scatter(inv_man[:, 0], inv_man[:, 1], inv_man[:, 2], c='blue', s=5, alpha=0.5, label='invariant manifold')\n",
    "ax.legend();"
   ]
  },
  {
   "cell_type": "markdown",
   "id": "cd772f34",
   "metadata": {},
   "source": [
    "## Torus: Limit cycle + Ring attractor"
   ]
  },
  {
   "cell_type": "code",
   "execution_count": null,
   "id": "d0d2ee35",
   "metadata": {},
   "outputs": [],
   "source": [
    "# composite system\n",
    "\n",
    "# Define the 2D limit cycle system\n",
    "limit_cycle = LearnableNDLimitCycle(\n",
    "    dim=2,\n",
    "    dt=0.05,\n",
    "    time_span=(0, 5),\n",
    "    velocity_init=1.0,\n",
    "    alpha_init=-1.0\n",
    ")\n",
    "\n",
    "# Define the 2D ring attractor system\n",
    "ring_attractor = LearnableNDRingAttractor(\n",
    "    dim=2,\n",
    "    dt=0.05,\n",
    "    time_span=(0, 5),\n",
    "    alpha_init=-1,\n",
    "    sigma_init=0.05,\n",
    "    vf_on_ring_enabled=False,\n",
    "    vf_on_ring_num_terms=3\n",
    ")\n",
    "\n",
    "# Combine them into a composite system\n",
    "composite_system = LearnableCompositeSystem(\n",
    "    systems=[limit_cycle, ring_attractor],\n",
    "    dims=[2, 2],\n",
    "    dt=0.05,\n",
    "    time_span=(0, 5)\n",
    ")\n",
    "\n",
    "# Run it\n",
    "init_conds = generate_initial_conditions(\n",
    "    sampling_method='uniform',bounds=[(-1.5, 1.5)]*4,num_points= simulation_params['number_of_target_trajectories'],seed=simulation_params['seed'])\n",
    "torus_trajs = composite_system.compute_trajectory(init_conds).detach().numpy()\n",
    "inv_man = composite_system.invariant_manifold(100).detach().numpy() #10 is coarse"
   ]
  },
  {
   "cell_type": "code",
   "execution_count": null,
   "id": "552ca672",
   "metadata": {},
   "outputs": [],
   "source": [
    "#2subplots\n",
    "fig, axs = plt.subplots(1, 2, figsize=(10, 5))\n",
    "axs[0].plot(torus_trajs[:,:,0].T, torus_trajs[:,:,1].T, color='firebrick', alpha=0.5);\n",
    "axs[0].plot(inv_man[:,0], inv_man[:,1], color='blue', alpha=0.5, lw=2)\n",
    "axs[1].plot(torus_trajs[:,:,2,].T, torus_trajs[:,:,3].T, color='firebrick', alpha=0.5);\n",
    "axs[1].plot(inv_man[:,2], inv_man[:,3], color='blue', alpha=0.5, lw=2)"
   ]
  },
  {
   "cell_type": "code",
   "execution_count": null,
   "id": "cce1ecda",
   "metadata": {},
   "outputs": [],
   "source": [
    "# # pca \n",
    "# from sklearn.decomposition import PCA\n",
    "# pca = PCA(n_components=3)\n",
    "# pca.fit(torus_trajs.detach().numpy().reshape(-1, 4))\n",
    "# pca_trajs = pca.transform(torus_trajs.detach().numpy().reshape(-1, 4))\n",
    "\n",
    "torus_3d = torus_4d_to_3d(torus_trajs.reshape(-1, 4))\n",
    "inv_man_3d = torus_4d_to_3d(inv_man)\n",
    "\n",
    "plot_trajectories_3d([torus_3d.reshape(torus_trajs.shape[0], torus_trajs.shape[1], 3), inv_man_3d],\n",
    "                     labels=['Torus attractor (PCA)'],\n",
    "                     colors=['firebrick'],\n",
    "                     #save_name='torus_trajs.pdf',\n",
    "                       elev=45, azim=60)"
   ]
  },
  {
   "cell_type": "code",
   "execution_count": null,
   "id": "28f72228",
   "metadata": {},
   "outputs": [],
   "source": [
    "#plot invariant manifold\n",
    "fig, ax = plt.subplots(figsize=(5, 5), subplot_kw={'projection': '3d'})\n",
    "ax.set_box_aspect([1, 1, .5])  # aspect ratio is 1:1:1\n",
    "ax.set_xlabel('X')\n",
    "ax.set_ylabel('Y')\n",
    "ax.set_zlabel('Z')\n",
    "ax.set_title('Invariant Manifold')\n",
    "ax.view_init(elev=20, azim=30)\n",
    "ax.scatter(inv_man_3d[:, 0], inv_man_3d[:, 1], inv_man_3d[:, 2], c='blue', s=1, alpha=0.5)"
   ]
  },
  {
   "cell_type": "markdown",
   "id": "a0284cd4",
   "metadata": {},
   "source": [
    "## Torus: 2 Limit cycles"
   ]
  },
  {
   "cell_type": "code",
   "execution_count": null,
   "id": "f0f09fcc",
   "metadata": {},
   "outputs": [],
   "source": [
    "# Define the 2D limit cycle system\n",
    "lc1 = LearnableNDLimitCycle(\n",
    "    dim=2,\n",
    "    dt=0.05,\n",
    "    time_span=(0, 5),\n",
    "    velocity_init=1.0,\n",
    "    alpha_init=-1.0\n",
    ")\n",
    "\n",
    "# Define the 2D ring attractor system\n",
    "lc2 = LearnableNDLimitCycle(\n",
    "    dim=2,\n",
    "    dt=0.05,\n",
    "    time_span=(0, 5),\n",
    "    velocity_init=.56546734,\n",
    "    alpha_init=-1.0\n",
    ")\n",
    "\n",
    "# Combine them into a composite system\n",
    "systems = [lc1, lc2]\n",
    "dims = [lc1.dim, lc2.dim]\n",
    "composite_system = LearnableCompositeSystem(\n",
    "    systems=systems,\n",
    "    dims=dims,\n",
    "    dt=0.05,\n",
    "    time_span=(0, 5)\n",
    ")\n",
    "\n",
    "# Run it\n",
    "init_conds = generate_initial_conditions(sampling_method='uniform',bounds=[(-1.01, 1.01)]*sum(dims),num_points= simulation_params['number_of_target_trajectories'],seed=simulation_params['seed'])\n",
    "torus_trajs = composite_system.compute_trajectory(init_conds).detach().numpy()\n",
    "inv_man = composite_system.invariant_manifold(10).detach().numpy() "
   ]
  },
  {
   "cell_type": "code",
   "execution_count": null,
   "id": "ef0b4e79",
   "metadata": {},
   "outputs": [],
   "source": [
    "#2subplots\n",
    "inv_man = composite_system.invariant_manifold(20).detach().numpy() \n",
    "fig, axs = plt.subplots(1, 2, figsize=(10, 5))\n",
    "axs[0].plot(torus_trajs[:,:,0].T, torus_trajs[:,:,1].T, color='firebrick', alpha=0.5);\n",
    "axs[0].plot(inv_man[:,0], inv_man[:,1], color='blue', alpha=0.5, lw=2)\n",
    "axs[1].plot(torus_trajs[:,:,2,].T, torus_trajs[:,:,3].T, color='firebrick', alpha=0.5);\n",
    "axs[1].plot(inv_man[:,2], inv_man[:,3], color='blue', alpha=0.5, lw=2)"
   ]
  },
  {
   "cell_type": "code",
   "execution_count": null,
   "id": "bf267cf8",
   "metadata": {},
   "outputs": [],
   "source": [
    "torus_3d = torus_4d_to_3d(torus_trajs.reshape(-1, 4), R=2.0, r=1)\n",
    "inv_man_3d = torus_4d_to_3d(inv_man)\n",
    "plot_trajectories_3d([torus_3d.reshape(torus_trajs.shape[0], torus_trajs.shape[1], 3), inv_man_3d.reshape(inv_man_3d.shape[0], 1, 3)],\n",
    "                     labels=['Torus attractor (parametric embedding)', 'Invariant manifold'],\n",
    "                     colors=['firebrick', 'blue'],\n",
    "                     #save_name='torus_trajs.pdf',\n",
    "                       elev=45, azim=60)"
   ]
  },
  {
   "cell_type": "markdown",
   "id": "74ea67e5",
   "metadata": {},
   "source": [
    "## Cylinder"
   ]
  },
  {
   "cell_type": "code",
   "execution_count": null,
   "id": "740f08ec",
   "metadata": {},
   "outputs": [],
   "source": [
    "lc = LearnableNDLimitCycle(\n",
    "    dim=2,\n",
    "    dt=0.05,\n",
    "    time_span=(0, 5),\n",
    "    velocity_init=1.0,\n",
    "    alpha_init=-1.0\n",
    ")\n",
    "\n",
    "la = LearnableBoundedContinuousAttractor(\n",
    "    dim=1,\n",
    "    bca_dim=1,\n",
    "    dt=0.05,\n",
    "    time_span=(0, 5))\n",
    "\n",
    "# Combine them into a composite system\n",
    "systems = [lc, la]\n",
    "dims = [lc.dim, la.dim]\n",
    "composite_system = LearnableCompositeSystem(\n",
    "    systems=systems,\n",
    "    dims=dims,\n",
    "    dt=0.05,\n",
    "    time_span=(0, 5)\n",
    ")\n",
    "\n",
    "# Run it\n",
    "init_conds = generate_initial_conditions(sampling_method='uniform',bounds=[(-1.01, 1.01)]*sum(dims),num_points= simulation_params['number_of_target_trajectories'],seed=simulation_params['seed'])\n",
    "cylinder_trajs = composite_system.compute_trajectory(init_conds).detach().numpy()\n",
    "inv_man = composite_system.invariant_manifold(10).detach().numpy() \n",
    "inv_man.shape"
   ]
  },
  {
   "cell_type": "code",
   "execution_count": null,
   "id": "a353b851",
   "metadata": {},
   "outputs": [],
   "source": [
    "plot_trajectories_3d([cylinder_trajs, inv_man.reshape(inv_man.shape[0], 1, 3)],\n",
    "                     labels=['Cylinder attractor', 'Invariant manifold'],\n",
    "                     colors=['firebrick', 'blue'],\n",
    "                     #save_name='cylinder_trajs.pdf',\n",
    "                     plot_start=True, plot_end=False,\n",
    "                       elev=45, azim=60)"
   ]
  },
  {
   "cell_type": "code",
   "execution_count": null,
   "id": "3c0cb40b",
   "metadata": {},
   "outputs": [],
   "source": [
    "fig, ax = plt.subplots(1, 1, figsize=(5, 5), subplot_kw={'projection': '3d'})\n",
    "plot_deformed_cylinder_surface(ax, inv_man)"
   ]
  },
  {
   "cell_type": "code",
   "execution_count": null,
   "id": "68f279a5",
   "metadata": {},
   "outputs": [],
   "source": []
  },
  {
   "cell_type": "markdown",
   "id": "f01d45b6",
   "metadata": {},
   "source": [
    "# Bounded Continuous Attractors"
   ]
  },
  {
   "cell_type": "markdown",
   "id": "61c83d0f",
   "metadata": {},
   "source": [
    "## Bounded Line attractor"
   ]
  },
  {
   "cell_type": "code",
   "execution_count": null,
   "id": "1c139eaa",
   "metadata": {},
   "outputs": [],
   "source": [
    "dim = 2\n",
    "bca_dim = 1\n",
    "generator_bla = AnalyticalBoundedContinuousAttractor(dim=dim, bca_dim=bca_dim, dt=dt, time_span=time_span) \n",
    "init_conds = generate_initial_conditions(\n",
    "    sampling_method='uniform',    bounds=[(-1.5, 1.5)]*dim,    num_points= simulation_params['number_of_target_trajectories'],    seed=simulation_params['seed'])\n",
    "bla_trajs = generator_bla.compute_trajectory(init_conds).detach().numpy()\n",
    "inv_man = generator_bla.invariant_manifold().detach().numpy();\n",
    "\n",
    "fig, ax = plt.subplots(figsize=(5, 5))\n",
    "ax.plot(bla_trajs[:, :, 0].T, bla_trajs[:, :, 1].T, color='firebrick', alpha=0.5);\n",
    "ax.plot(inv_man[:, 0], inv_man[:, 1], color='blue', alpha=0.5, linewidth=2)\n",
    "plt.show()"
   ]
  },
  {
   "cell_type": "markdown",
   "id": "b67e70b3",
   "metadata": {},
   "source": [
    "## Bounded Square Attractor (in R^2)"
   ]
  },
  {
   "cell_type": "code",
   "execution_count": null,
   "id": "309983df",
   "metadata": {},
   "outputs": [],
   "source": [
    "dim = 2\n",
    "bca_dim = 2\n",
    "generator_bla = AnalyticalBoundedContinuousAttractor(dim=dim, bca_dim=bca_dim, dt=dt, time_span=time_span) \n",
    "init_conds = generate_initial_conditions(\n",
    "    sampling_method='uniform',    bounds=[(-1.5, 1.5)]*dim,    num_points= simulation_params['number_of_target_trajectories'],    seed=simulation_params['seed'])\n",
    "bsa_trajs = generator_bla.compute_trajectory(init_conds).detach().numpy()\n",
    "inv_man = generator_bla.invariant_manifold().detach().numpy();\n",
    "\n",
    "fig, ax = plt.subplots(figsize=(5, 5))\n",
    "ax.plot(bsa_trajs[:, :, 0].T, bsa_trajs[:, :, 1].T, color='firebrick', alpha=0.5);\n",
    "ax.plot(inv_man[:, 0], inv_man[:, 1], '.', color='blue', alpha=0.5, linewidth=2)\n",
    "plt.show()"
   ]
  },
  {
   "cell_type": "code",
   "execution_count": null,
   "id": "09a0e583",
   "metadata": {},
   "outputs": [],
   "source": [
    "## Bounded Square Attractor (in R^3)\n",
    "dim = 3\n",
    "bca_dim = 2\n",
    "generator_bsa = AnalyticalBoundedContinuousAttractor(dim=dim, bca_dim=bca_dim, dt=dt, time_span=time_span) \n",
    "init_conds = generate_initial_conditions(\n",
    "    sampling_method='uniform',    bounds=[(-1.5, 1.5)]*dim,    num_points= simulation_params['number_of_target_trajectories'],    seed=simulation_params['seed'])\n",
    "bsa_trajs = generator_bsa.compute_trajectory(init_conds).detach().numpy()\n",
    "inv_man = generator_bsa.invariant_manifold().detach().numpy();\n",
    "\n",
    "plot_trajectories_3d([bsa_trajs, inv_man.reshape(-1, 1, 3)],\n",
    "                     labels=['Bounded Square Attractor', 'Invariant Manifold'],\n",
    "                     colors=['firebrick', 'blue'],\n",
    "                     #save_name='bsa_trajs.pdf',\n",
    "                       elev=45, azim=60)"
   ]
  },
  {
   "cell_type": "code",
   "execution_count": null,
   "id": "00fabc26",
   "metadata": {},
   "outputs": [],
   "source": [
    "## Bounded Cube Attractor (in R^3)\n",
    "dim = 3\n",
    "bca_dim = 3\n",
    "generator_bsa = AnalyticalBoundedContinuousAttractor(dim=dim, bca_dim=bca_dim, dt=dt, time_span=time_span) \n",
    "init_conds = generate_initial_conditions(\n",
    "    sampling_method='uniform',    bounds=[(-1.5, 1.5)]*dim,    num_points= simulation_params['number_of_target_trajectories'],    seed=simulation_params['seed'])\n",
    "bsa_trajs = generator_bsa.compute_trajectory(init_conds).detach().numpy()\n",
    "inv_man = generator_bsa.invariant_manifold().detach().numpy();\n",
    "\n",
    "plot_trajectories_3d([bsa_trajs, inv_man.reshape(-1, 1, 3)],\n",
    "                     labels=['Bounded Square Attractor', 'Invariant Manifold'],\n",
    "                     colors=['firebrick', 'blue'],\n",
    "                     #save_name='bsa_trajs.pdf',\n",
    "                       elev=45, azim=60)"
   ]
  },
  {
   "cell_type": "code",
   "execution_count": null,
   "id": "2543bd98",
   "metadata": {},
   "outputs": [],
   "source": []
  }
 ],
 "metadata": {
  "kernelspec": {
   "display_name": "CIT_",
   "language": "python",
   "name": "python3"
  },
  "language_info": {
   "codemirror_mode": {
    "name": "ipython",
    "version": 3
   },
   "file_extension": ".py",
   "mimetype": "text/x-python",
   "name": "python",
   "nbconvert_exporter": "python",
   "pygments_lexer": "ipython3",
   "version": "3.10.13"
  }
 },
 "nbformat": 4,
 "nbformat_minor": 5
}
