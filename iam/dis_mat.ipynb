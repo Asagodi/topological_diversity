{
 "cells": [
  {
   "cell_type": "code",
   "execution_count": 2,
   "id": "ad46b53a",
   "metadata": {},
   "outputs": [],
   "source": [
    "import numpy as np\n",
    "import matplotlib.pyplot as plt\n",
    "\n",
    "from pathlib import Path\n",
    "exp_dir = Path('experiments')\n",
    "data_dir = exp_dir / 'all_targets'\n",
    "motif_dir = data_dir / 'motif_fits'"
   ]
  },
  {
   "cell_type": "code",
   "execution_count": 31,
   "id": "80428cf7",
   "metadata": {},
   "outputs": [
    {
     "name": "stdout",
     "output_type": "stream",
     "text": [
      "Motif:  bibla\n",
      "Motif:  bistable\n",
      "Motif:  lc\n",
      "Target:  bz_reaction\n",
      "Motif:  lds\n",
      "Target:  bz_reaction\n",
      "Motif:  ring\n",
      "Motif:  sphere\n",
      "Target:  lorenz_on_313\n"
     ]
    }
   ],
   "source": [
    "motif_target_dis_dict = {}\n",
    "motif_folders = list(motif_dir.glob('*'))\n",
    "for folder in motif_folders:\n",
    "    motif_name = folder.name\n",
    "    print(\"Motif: \", motif_name)\n",
    "    motif_target_dis_dict[motif_name] = {}\n",
    "    result_files = list(folder.glob('*.npz'))\n",
    "    for result_file in result_files:\n",
    "        target_name = result_file.name.split('.')[0][8:]  #skip 'result_'\n",
    "        print(\"Target: \", target_name) \n",
    "        data = np.load(result_file)\n",
    "        motif_target_dis_dict[motif_name][target_name] = {\n",
    "            'train_error': data['training_loss'],\n",
    "            'test_error': data['test_loss'],\n",
    "            'jac_fro': data['jac_fro']\n",
    "        }"
   ]
  },
  {
   "cell_type": "code",
   "execution_count": 32,
   "id": "6f717726",
   "metadata": {},
   "outputs": [
    {
     "data": {
      "text/plain": [
       "{'bibla': {},\n",
       " 'bistable': {},\n",
       " 'lc': {'bz_reaction': {'train_error': array(0.26460284),\n",
       "   'test_error': array(0.38057023),\n",
       "   'jac_fro': array(4.5148945, dtype=float32)}},\n",
       " 'lds': {'bz_reaction': {'train_error': array(0.07649617),\n",
       "   'test_error': array(0.20433637),\n",
       "   'jac_fro': array(1.555247, dtype=float32)}},\n",
       " 'ring': {},\n",
       " 'sphere': {'lorenz_on_313': {'train_error': array(0.42178538),\n",
       "   'test_error': array(0.44765702),\n",
       "   'jac_fro': array(0.2544364, dtype=float32)}}}"
      ]
     },
     "execution_count": 32,
     "metadata": {},
     "output_type": "execute_result"
    }
   ],
   "source": [
    "motif_target_dis_dict"
   ]
  },
  {
   "cell_type": "code",
   "execution_count": null,
   "id": "a4c38dbd",
   "metadata": {},
   "outputs": [],
   "source": []
  }
 ],
 "metadata": {
  "kernelspec": {
   "display_name": "CIT_",
   "language": "python",
   "name": "python3"
  },
  "language_info": {
   "codemirror_mode": {
    "name": "ipython",
    "version": 3
   },
   "file_extension": ".py",
   "mimetype": "text/x-python",
   "name": "python",
   "nbconvert_exporter": "python",
   "pygments_lexer": "ipython3",
   "version": "3.10.13"
  }
 },
 "nbformat": 4,
 "nbformat_minor": 5
}
