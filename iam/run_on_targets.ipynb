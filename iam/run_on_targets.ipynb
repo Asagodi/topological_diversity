{
 "cells": [
  {
   "cell_type": "code",
   "execution_count": 4,
   "id": "7ea8778c",
   "metadata": {},
   "outputs": [],
   "source": [
    "import torch\n",
    "import torch.nn as nn\n",
    "import torch.optim as optim\n",
    "from torch.utils.data import random_split\n",
    "device = torch.device(\"cuda\" if torch.cuda.is_available() else \"cpu\")\n",
    "device = 'cpu'\n",
    "import time, os, sys, pickle\n",
    "import numpy as np\n",
    "from scripts.utils import set_seed\n",
    "from scripts.ds_class import *\n",
    "from scripts.homeos import *\n",
    "from scripts.plotting import *\n",
    "from scripts.fit_motif import *\n",
    "from scripts.time_series import *\n",
    "from scripts.ra import *\n",
    "from scripts.exp_tools import *\n",
    "\n",
    "import matplotlib as mpl\n",
    "import matplotlib.pyplot as plt\n",
    "import matplotlib.colors as mcolors\n",
    "from matplotlib.ticker import MaxNLocator\n",
    "import seaborn as sns\n",
    "\n",
    "set_seed(313)\n",
    "from pathlib import Path\n",
    "exp_dir = Path('experiments')\n",
    "data_dir = exp_dir / 'all_targets'\n",
    "save_dir = data_dir / 'motif_fits'"
   ]
  },
  {
   "cell_type": "code",
   "execution_count": 5,
   "id": "d8df3b77",
   "metadata": {},
   "outputs": [
    {
     "name": "stdout",
     "output_type": "stream",
     "text": [
      "experiments\\all_targets\n",
      "bz_reaction dim =  2\n",
      "lienard_sigmoid dim =  2\n",
      "lorenz_off_313 dim =  3\n",
      "noisy_vdp dim =  2\n",
      "ra dim =  2\n",
      "ra_nstd0.25 dim =  2\n",
      "selkov dim =  2\n",
      "vdp dim =  2\n"
     ]
    }
   ],
   "source": [
    "save_dir.mkdir(parents=True, exist_ok=True)\n",
    "npy_files = list(data_dir.glob('*.npy'))\n",
    "print(data_dir)\n",
    "for file in npy_files:\n",
    "    target_name = file.name.removesuffix('.npy')\n",
    "\n",
    "    target_trajs = np.load(file)\n",
    "    print(target_name, 'dim = ', target_trajs.shape[2])\n",
    "    file_ = data_dir / f'{target_name}.npy'\n",
    "\n"
   ]
  },
  {
   "cell_type": "markdown",
   "id": "5f8f7805",
   "metadata": {},
   "source": [
    "# 0D: LDS\n",
    "# 1D: Bounded line attractor (bla)\n",
    "# 2D motifs: \n",
    "- Ring attractor\n",
    "- Limit cycle\n",
    "- Two line attractors (bibla)\n",
    "# 3D:\n",
    "- Sphere\n",
    "- Torus\n",
    "-- with LC+RA\n",
    "-- with RAs\n",
    "- Cylinder LC+BLA"
   ]
  },
  {
   "cell_type": "markdown",
   "id": "ede86e4b",
   "metadata": {},
   "source": [
    "# 2D targets:\n",
    "- Van der Pol (+noisy)\n",
    "- Lienard\n",
    "- BZ reaction\n",
    "- Selkov\n",
    "- RA (+noisy) #(+perturbed)"
   ]
  },
  {
   "cell_type": "code",
   "execution_count": null,
   "id": "ba1ffb83",
   "metadata": {},
   "outputs": [],
   "source": [
    "motifs_2d = ['lds', 'lc', 'ring', 'bla', 'bistable']"
   ]
  },
  {
   "cell_type": "code",
   "execution_count": null,
   "id": "f7abae7d",
   "metadata": {},
   "outputs": [],
   "source": [
    "file = npy_files[0]\n",
    "target_name = file.name.removesuffix('.npy')\n",
    "print(\"Starting training motifs on system\", target_name)\n",
    "for motif in motifs_2d:\n",
    "    print('training motif', motif)\n",
    "    if motif == 'lc' or motif == 'bistable':\n",
    "        analytic = False\n",
    "    else:\n",
    "        analytic = True\n",
    "    run_on_target(target_name, save_dir=save_dir, data_dir=data_dir, ds_motif=motif, analytic=analytic, canonical=True)"
   ]
  },
  {
   "cell_type": "code",
   "execution_count": null,
   "id": "581e86b4",
   "metadata": {},
   "outputs": [],
   "source": []
  },
  {
   "cell_type": "code",
   "execution_count": null,
   "id": "320dc1be",
   "metadata": {},
   "outputs": [],
   "source": []
  },
  {
   "cell_type": "markdown",
   "id": "4a5555d1",
   "metadata": {},
   "source": [
    "# 3D:\n",
    "- Lorenz LC"
   ]
  },
  {
   "cell_type": "code",
   "execution_count": null,
   "id": "ecb90623",
   "metadata": {},
   "outputs": [],
   "source": [
    "run_on_target(\"lorenz_on_313\", save_dir=save_dir, ds_motif='sphere', analytic=True)"
   ]
  },
  {
   "cell_type": "code",
   "execution_count": null,
   "id": "b70bfcbb",
   "metadata": {},
   "outputs": [],
   "source": []
  },
  {
   "cell_type": "code",
   "execution_count": null,
   "id": "3bc68538",
   "metadata": {},
   "outputs": [],
   "source": []
  },
  {
   "cell_type": "code",
   "execution_count": null,
   "id": "31d73d7e",
   "metadata": {},
   "outputs": [],
   "source": [
    "# noisy vdp exp\n",
    "noisy_vdp_folder = 'experiments/lcs/noisy_vdp'\n",
    "data_dir = exp_dir / 'lcs' / 'noisy_vdp'\n",
    "\n",
    "save_dir.mkdir(parents=True, exist_ok=True)\n",
    "npy_files = list(data_dir.glob('*.npy'))\n",
    "print(data_dir)\n",
    "for file in npy_files:\n",
    "    target_name = file.name.removesuffix('.npy')\n",
    "\n",
    "    target_trajs = np.load(file)\n",
    "    print(target_name, 'dim = ', target_trajs.shape[2])\n",
    "    file_ = data_dir / f'{target_name}.npy'\n",
    "\n",
    "file = npy_files[0]\n",
    "target_name = file.name.removesuffix('.npy')\n",
    "print(\"Starting training motifs on system\", target_name)\n",
    "for motif in motifs_2d:\n",
    "    print('training motif', motif)\n",
    "    if motif == 'lc' or motif == 'bistable':\n",
    "        analytic = False\n",
    "    else:\n",
    "        analytic = True\n",
    "    run_on_target(target_name, save_dir=save_dir, data_dir=data_dir, ds_motif=motif, analytic=analytic, canonical=True)"
   ]
  },
  {
   "cell_type": "code",
   "execution_count": null,
   "id": "7328487a",
   "metadata": {},
   "outputs": [],
   "source": [
    "#bla pert\n",
    "from pathlib import Path\n",
    "exp_dir = Path('experiments')\n",
    "\n",
    "data_dir = exp_dir / 'bla_pert' \n",
    "save_dir = data_dir / 'motif_fits'\n",
    "save_dir.mkdir(parents=True, exist_ok=True)\n",
    "npy_files = list(data_dir.glob('*.npy'))\n",
    "print(data_dir)\n",
    "\n",
    "motifs_2d = ['lds', 'lc', 'ring', 'bla', 'bistable']\n",
    "for file in npy_files:\n",
    "    target_name = file.name.removesuffix('.npy')\n",
    "\n",
    "    target_trajs = np.load(file)\n",
    "    print(target_name)\n",
    "    file_ = data_dir / f'{target_name}.npy'\n",
    "    for motif in motifs_2d:\n",
    "        print('training motif', motif)\n",
    "        if motif == 'lc' or motif == 'bistable':\n",
    "            analytic = False\n",
    "        else:\n",
    "            analytic = True\n",
    "        run_on_target(target_name, save_dir=save_dir, data_dir=data_dir, ds_motif=motif, analytic=analytic, canonical=True)"
   ]
  },
  {
   "cell_type": "code",
   "execution_count": null,
   "id": "f2c9a8f2",
   "metadata": {},
   "outputs": [],
   "source": []
  }
 ],
 "metadata": {
  "kernelspec": {
   "display_name": "CIT_",
   "language": "python",
   "name": "python3"
  },
  "language_info": {
   "codemirror_mode": {
    "name": "ipython",
    "version": 3
   },
   "file_extension": ".py",
   "mimetype": "text/x-python",
   "name": "python",
   "nbconvert_exporter": "python",
   "pygments_lexer": "ipython3",
   "version": "3.10.13"
  }
 },
 "nbformat": 4,
 "nbformat_minor": 5
}
