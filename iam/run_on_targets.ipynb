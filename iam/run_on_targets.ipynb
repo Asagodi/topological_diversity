{
 "cells": [
  {
   "cell_type": "code",
   "execution_count": 1,
   "id": "7ea8778c",
   "metadata": {},
   "outputs": [],
   "source": [
    "import torch\n",
    "import torch.nn as nn\n",
    "import torch.optim as optim\n",
    "from torch.utils.data import random_split\n",
    "device = torch.device(\"cuda\" if torch.cuda.is_available() else \"cpu\")\n",
    "\n",
    "import time, os, sys, pickle\n",
    "import numpy as np\n",
    "from scripts.utils import set_seed\n",
    "from scripts.ds_class import *\n",
    "from scripts.homeos import *\n",
    "from scripts.plotting import *\n",
    "from scripts.fit_motif import *\n",
    "from scripts.time_series import *\n",
    "from scripts.ra import *\n",
    "\n",
    "import matplotlib as mpl\n",
    "import matplotlib.pyplot as plt\n",
    "import matplotlib.colors as mcolors\n",
    "from matplotlib.ticker import MaxNLocator\n",
    "import seaborn as sns\n",
    "\n",
    "set_seed(313)\n",
    "from pathlib import Path\n",
    "exp_dir = Path('experiments')\n",
    "data_dir = exp_dir / 'all_targets'\n",
    "save_dir = data_dir / 'motif_fits'"
   ]
  },
  {
   "cell_type": "code",
   "execution_count": null,
   "id": "d8df3b77",
   "metadata": {},
   "outputs": [
    {
     "name": "stdout",
     "output_type": "stream",
     "text": [
      "bz_reaction dim =  2\n",
      "lienard_sigmoid dim =  2\n",
      "lorenz_off_313 dim =  3\n",
      "lorenz_on_313 dim =  3\n",
      "noisy_vdp dim =  2\n",
      "ra dim =  2\n",
      "ra_nstd0.25 dim =  2\n",
      "selkov dim =  2\n",
      "vdp dim =  2\n"
     ]
    }
   ],
   "source": [
    "save_dir.mkdir(parents=True, exist_ok=True)\n",
    "npy_files = list(data_dir.glob('*.npy'))\n",
    "\n",
    "\n",
    "for file in npy_files:\n",
    "    target_name = file.name.removesuffix('.npy')\n",
    "\n",
    "    target_trajs = np.load(file)\n",
    "    print(target_name, 'dim = ', target_trajs.shape[2])\n",
    "    file_ = data_dir / f'{target_name}.npy'\n",
    "\n"
   ]
  },
  {
   "cell_type": "code",
   "execution_count": 3,
   "id": "73cfad90",
   "metadata": {},
   "outputs": [],
   "source": [
    "def run_on_target(target_name, save_dir, ds_motif = 'ring', analytic = True, maxT = 5,\n",
    "                    alpha_init = None, velocity_init = None, vf_on_ring_enabled = False, #if analytic then not used\n",
    "                    homeo_type = 'node', layer_sizes = 1*[64], \n",
    "                    train_ratio = 0.8, training_pairs = False, \n",
    "                    lr = 0.01, num_epochs = 1000, \n",
    "                    random_seed = 313):\n",
    "    save_dir = os.path.join(save_dir, ds_motif)\n",
    "    os.makedirs(save_dir, exist_ok=True)\n",
    "    set_seed(random_seed)\n",
    "     \n",
    "    trajectories_target = np.load(data_dir / f'{target_name}.npy')\n",
    "    dim = trajectories_target.shape[2]\n",
    "    tsteps = trajectories_target.shape[1]\n",
    "    B = trajectories_target.shape[0]\n",
    "\n",
    "    dt = maxT / tsteps\n",
    "    time_span = torch.tensor([0.0, maxT])\n",
    "    \n",
    "    if training_pairs:\n",
    "        time_span = torch.tensor([0.0, dt])\n",
    "    ds_params = {'ds_motif': ds_motif, 'dim': dim, 'dt': dt, 'time_span': time_span, 'analytic': analytic, 'vf_on_ring_enabled': vf_on_ring_enabled, 'alpha_init': alpha_init, 'velocity_init': velocity_init}\n",
    "    init_type = None\n",
    "    homeo_params = {'homeo_type': homeo_type, 'dim': dim, 'layer_sizes': layer_sizes, 'activation': nn.ReLU, 'init_type': init_type}\n",
    "    annealing_params = {'dynamic': False, 'initial_std': .0, 'final_std': 0.}\n",
    "    training_params = {'lr': lr, 'num_epochs': num_epochs, 'annealing_params': annealing_params, 'early_stopping_patience': 1000, \"batch_size\": 32, 'use_inverse_formulation': True}\n",
    "    all_parameters = { 'homeo_params': homeo_params, 'training_params': training_params, \"ds_params\": ds_params}\n",
    "    with open(f\"{save_dir}/parameters_{target_name}.pkl\", \"wb\") as f:\n",
    "        pickle.dump(all_parameters, f)\n",
    "\n",
    "    trajectories_target = torch.tensor(trajectories_target, dtype=torch.float32).to(device)\n",
    "    trajectories_target_full, trajectories_target, mean, std = normalize_scale_pair(trajectories_target, False)\n",
    "\n",
    "    n_train = int(train_ratio * B)\n",
    "    n_test = B - n_train\n",
    "    train_set, test_set = random_split(trajectories_target_full, [n_train, n_test])\n",
    "    trajectories_target_train = trajectories_target[train_set.indices]\n",
    "    trajectories_target_test = trajectories_target[test_set.indices]\n",
    "\n",
    "    #train homeo_ds_net\n",
    "    homeo = build_homeomorphism(homeo_params)\n",
    "    source_system_ra = build_ds_motif(**ds_params)\n",
    "    homeo_ds_net = Homeo_DS_Net(homeo, source_system_ra)\n",
    "    homeo_ds_net, losses, grad_norms = train_homeo_ds_net_batched(homeo_ds_net=homeo_ds_net, trajectories_target=trajectories_target_train, **training_params)\n",
    "    homeo_ds_net.eval()\n",
    "    \n",
    "    #test\n",
    "    _, _, training_loss = test_single_homeo_ds_net(homeo_ds_net=homeo_ds_net, trajectories_target=trajectories_target_train)\n",
    "    _, _, test_loss = test_single_homeo_ds_net(homeo_ds_net=homeo_ds_net, trajectories_target=trajectories_target_test)\n",
    "    traj_src_np, traj_trans_np, _ = test_single_homeo_ds_net(homeo_ds_net=homeo_ds_net, trajectories_target=trajectories_target)\n",
    "\n",
    "    inv_man = homeo_ds_net.invariant_manifold(100).detach().numpy()\n",
    "    jac_norm_frobenius = jacobian_norm_over_batch(homeo_ds_net.homeo_network, trajectories_target.reshape(-1,dim), norm_type='fro').detach().numpy()\n",
    "    jac_norm_spectral = jacobian_norm_over_batch(homeo_ds_net.homeo_network, trajectories_target.reshape(-1,dim), norm_type='spectral').detach().numpy()\n",
    "\n",
    "    np.savez(\n",
    "    f\"{save_dir}/results_{target_name}.npz\",\n",
    "    jac_fro=jac_norm_frobenius,\n",
    "    jac_spec=jac_norm_spectral,\n",
    "    training_loss=training_loss,\n",
    "    test_loss=test_loss,\n",
    "    losses=np.array(losses),  \n",
    "    grad_norms=np.array(grad_norms),\n",
    "    inv_man=inv_man\n",
    ")\n",
    "\n",
    "    save_homeo_ds_net(homeo_ds_net, f\"{save_dir}/homeo_{target_name}.pth\")\n",
    "    np.save(f\"{save_dir}/traj_motif_transformed_{target_name}.npy\", traj_trans_np) \n",
    "    np.save(f\"{save_dir}/traj_motif_source_{target_name}.npy\", traj_src_np) "
   ]
  },
  {
   "cell_type": "code",
   "execution_count": null,
   "id": "351f9560",
   "metadata": {},
   "outputs": [],
   "source": []
  },
  {
   "cell_type": "markdown",
   "id": "5f8f7805",
   "metadata": {},
   "source": [
    "# 0D: LDS\n",
    "# 1D: Bounded line attractor (bla)\n",
    "# 2D motifs: \n",
    "- Ring attractor\n",
    "- Limit cycle\n",
    "- Two line attractors (bibla)\n",
    "# 3D:\n",
    "- Sphere\n",
    "- Torus\n",
    "-- with LC+RA\n",
    "-- with RAs\n",
    "- Cylinder LC+BLA"
   ]
  },
  {
   "cell_type": "markdown",
   "id": "ede86e4b",
   "metadata": {},
   "source": [
    "# 2D targets:\n",
    "- Van der Pol (+noisy)\n",
    "- Lienard\n",
    "- BZ reaction\n",
    "- Selkov\n",
    "- RA (+noisy) #(+perturbed)"
   ]
  },
  {
   "cell_type": "code",
   "execution_count": 5,
   "id": "ba1ffb83",
   "metadata": {},
   "outputs": [],
   "source": [
    "motifs_2d = ['lds', 'lc', 'ring', 'bla', 'bistable']"
   ]
  },
  {
   "cell_type": "code",
   "execution_count": null,
   "id": "f7abae7d",
   "metadata": {},
   "outputs": [
    {
     "name": "stdout",
     "output_type": "stream",
     "text": [
      "Starting training motifs on system bz_reaction\n",
      "training motif lds\n",
      "Epoch 0, log(Loss)= 0.0203\n",
      "Epoch 10, log(Loss)= -0.0249\n",
      "Epoch 20, log(Loss)= -0.0938\n"
     ]
    }
   ],
   "source": [
    "file = npy_files[0]\n",
    "target_name = file.name.removesuffix('.npy')\n",
    "print(\"Starting training motifs on system\", target_name)\n",
    "for motif in motifs_2d:\n",
    "    print('training motif', motif)\n",
    "    run_on_target(target_name, save_dir=save_dir, ds_motif=motif, analytic=True)"
   ]
  },
  {
   "cell_type": "code",
   "execution_count": null,
   "id": "581e86b4",
   "metadata": {},
   "outputs": [],
   "source": []
  },
  {
   "cell_type": "code",
   "execution_count": null,
   "id": "320dc1be",
   "metadata": {},
   "outputs": [],
   "source": []
  },
  {
   "cell_type": "markdown",
   "id": "4a5555d1",
   "metadata": {},
   "source": [
    "# 3D:\n",
    "- Lorenz LC"
   ]
  },
  {
   "cell_type": "code",
   "execution_count": null,
   "id": "ecb90623",
   "metadata": {},
   "outputs": [
    {
     "name": "stdout",
     "output_type": "stream",
     "text": [
      "Epoch 0, log(Loss)= -0.0317\n",
      "Final log(Loss)= -0.0317, Total training time: 0.17 sec, Avg epoch time: 0.1676 sec\n",
      "Computing Jacobian norms...\n",
      "Computing Jacobian norms...\n",
      "\n",
      "Model saved to experiments\\all_targets\\motif_fits\\sphere/homeo_lorenz_on_313.pth\n"
     ]
    }
   ],
   "source": [
    "run_on_target(\"lorenz_on_313\", save_dir=save_dir, ds_motif='sphere', analytic=True)"
   ]
  },
  {
   "cell_type": "code",
   "execution_count": null,
   "id": "b70bfcbb",
   "metadata": {},
   "outputs": [],
   "source": []
  }
 ],
 "metadata": {
  "kernelspec": {
   "display_name": "CIT_",
   "language": "python",
   "name": "python3"
  },
  "language_info": {
   "codemirror_mode": {
    "name": "ipython",
    "version": 3
   },
   "file_extension": ".py",
   "mimetype": "text/x-python",
   "name": "python",
   "nbconvert_exporter": "python",
   "pygments_lexer": "ipython3",
   "version": "3.10.13"
  }
 },
 "nbformat": 4,
 "nbformat_minor": 5
}
