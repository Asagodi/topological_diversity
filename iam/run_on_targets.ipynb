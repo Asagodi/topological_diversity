{
 "cells": [
  {
   "cell_type": "code",
   "execution_count": 10,
   "id": "7ea8778c",
   "metadata": {},
   "outputs": [],
   "source": [
    "import torch\n",
    "import torch.nn as nn\n",
    "import torch.optim as optim\n",
    "from torch.utils.data import random_split\n",
    "device = torch.device(\"cuda\" if torch.cuda.is_available() else \"cpu\")\n",
    "device = 'cpu'\n",
    "import time, os, sys, pickle\n",
    "import numpy as np\n",
    "from scripts.utils import set_seed\n",
    "from scripts.ds_class import *\n",
    "from scripts.homeos import *\n",
    "from scripts.plotting import *\n",
    "from scripts.fit_motif import *\n",
    "from scripts.time_series import *\n",
    "from scripts.ra import *\n",
    "from scripts.exp_tools import *\n",
    "\n",
    "import matplotlib as mpl\n",
    "import matplotlib.pyplot as plt\n",
    "import matplotlib.colors as mcolors\n",
    "from matplotlib.ticker import MaxNLocator\n",
    "import seaborn as sns\n",
    "\n",
    "set_seed(313)\n",
    "from pathlib import Path\n",
    "exp_dir = Path('experiments')\n",
    "data_dir = exp_dir / 'all_targets'"
   ]
  },
  {
   "cell_type": "code",
   "execution_count": 11,
   "id": "d8df3b77",
   "metadata": {},
   "outputs": [
    {
     "name": "stdout",
     "output_type": "stream",
     "text": [
      "experiments\\all_targets\n",
      "avi dim =  64\n",
      "bila_trajs dim =  2\n",
      "homeo_pert_ring dim =  2\n",
      "lienard_sigmoid dim =  2\n",
      "noisy_vdp dim =  2\n",
      "ra dim =  2\n",
      "ra_nstd0.05 dim =  2\n",
      "ra_nstd0.1 dim =  2\n",
      "ra_nstd0.25 dim =  2\n",
      "selkov dim =  2\n",
      "vdp dim =  2\n",
      "vf_pert_ring dim =  2\n"
     ]
    }
   ],
   "source": [
    "npy_files = list(data_dir.glob('*.npy'))\n",
    "print(data_dir)\n",
    "for file in npy_files:\n",
    "    target_name = file.name.removesuffix('.npy')\n",
    "\n",
    "    target_trajs = np.load(file)\n",
    "    print(target_name, 'dim = ', target_trajs.shape[2])\n",
    "    file_ = data_dir / f'{target_name}.npy'"
   ]
  },
  {
   "cell_type": "markdown",
   "id": "5f8f7805",
   "metadata": {},
   "source": [
    "# 0D: LDS\n",
    "# 1D: Bounded line attractor (bla)\n",
    "# 2D archetype: \n",
    "- Ring attractor\n",
    "- Limit cycle\n",
    "- Bistable\n"
   ]
  },
  {
   "cell_type": "markdown",
   "id": "ede86e4b",
   "metadata": {},
   "source": [
    "# 2D targets:\n",
    "- Van der Pol \n",
    "- noisy VdP\n",
    "- Lienard\n",
    "- Selkov\n",
    "- RA \n",
    "- noisy RA\n",
    "- deformed RA\n",
    "- perturbed RA\n",
    "- 2 Bounded Line Attractors (2 BLAs)"
   ]
  },
  {
   "cell_type": "code",
   "execution_count": 6,
   "id": "ba1ffb83",
   "metadata": {},
   "outputs": [],
   "source": [
    "archetypes_2d = ['lds', 'lc', 'ring', 'bla', 'bistable']"
   ]
  },
  {
   "cell_type": "code",
   "execution_count": 7,
   "id": "24fcb107",
   "metadata": {},
   "outputs": [],
   "source": [
    "# save_dir = data_dir / 'motif_fits' \n",
    "# save_dir.mkdir(parents=True, exist_ok=True)\n",
    "\n",
    "# for file in npy_files:\n",
    "#     target_name = file.name.removesuffix('.npy')\n",
    "#     print(\"Starting training archetype on system\", target_name)\n",
    "#     for archetype in archetypes_2d:\n",
    "#         print('training archetype', archetype)\n",
    "#         run_on_target(target_name, save_dir=save_dir, data_dir=data_dir, ds_motif=archetype, analytic=True, canonical=True, jac_lambda_reg=.0)"
   ]
  },
  {
   "cell_type": "code",
   "execution_count": 8,
   "id": "4bd097cb",
   "metadata": {},
   "outputs": [],
   "source": [
    "def format_reg_name(reg: float) -> str:\n",
    "    if reg == 0:\n",
    "        return \"0\"\n",
    "    elif reg >= 0.1:\n",
    "        return f\"{reg:.1f}\"       # e.g., 1.0 → '1.0', 0.1 → '0.1'\n",
    "    else:\n",
    "        return f\"{reg:.0e}\"       # e.g., 0.001 → '1e-3'"
   ]
  },
  {
   "cell_type": "code",
   "execution_count": 12,
   "id": "6b43471a",
   "metadata": {},
   "outputs": [
    {
     "data": {
      "text/plain": [
       "WindowsPath('experiments/all_targets/bila_trajs.npy')"
      ]
     },
     "execution_count": 12,
     "metadata": {},
     "output_type": "execute_result"
    }
   ],
   "source": [
    "reg_values = [1., 0.1, 0.01, 0.001, 0.0001, 0.]\n",
    "archetypes_2d = ['ring']\n",
    "file = npy_files[1]\n",
    "\n",
    "target_name = file.name.removesuffix('.npy')\n",
    "file"
   ]
  },
  {
   "cell_type": "code",
   "execution_count": null,
   "id": "d374bce3",
   "metadata": {},
   "outputs": [],
   "source": [
    "for reg_value in reg_values:\n",
    "    name = f\"seqjacreg_idinit_{format_reg_name(reg_value)}\"\n",
    "    save_dir = data_dir / \"motif_fits\" / name\n",
    "    save_dir.mkdir(parents=True, exist_ok=True)\n",
    "    archetype ='ring'\n",
    "    if reg_value == 1:\n",
    "        load_hdsnet_path = None\n",
    "    else:\n",
    "        load_hdsnet_path = save_dir_prev / archetype / f'homeo_{target_name}.pth'\n",
    "    print('training archetype', archetype, 'with reg', reg_value)\n",
    "    run_on_target(target_name, save_dir=save_dir, data_dir=data_dir, ds_motif=archetype, lr=1e-3,\n",
    "                    analytic=True, canonical=True, num_epochs=100, two_phase=True, second_phase_epochs=100,\n",
    "                        jac_lambda_reg=reg_value, load_hdsnet_path=load_hdsnet_path,\n",
    "                        homeo_init_type = \"small\", homeo_init_std=1e-4)\n",
    "    save_dir_prev = save_dir"
   ]
  },
  {
   "cell_type": "code",
   "execution_count": null,
   "id": "581e86b4",
   "metadata": {},
   "outputs": [],
   "source": []
  },
  {
   "cell_type": "code",
   "execution_count": null,
   "id": "320dc1be",
   "metadata": {},
   "outputs": [],
   "source": []
  },
  {
   "cell_type": "code",
   "execution_count": null,
   "id": "b70bfcbb",
   "metadata": {},
   "outputs": [],
   "source": []
  },
  {
   "cell_type": "code",
   "execution_count": null,
   "id": "3bc68538",
   "metadata": {},
   "outputs": [],
   "source": []
  },
  {
   "cell_type": "code",
   "execution_count": null,
   "id": "31d73d7e",
   "metadata": {},
   "outputs": [],
   "source": [
    "# # noisy vdp exp\n",
    "# noisy_vdp_folder = 'experiments/lcs/noisy_vdp'\n",
    "# data_dir = exp_dir / 'lcs' / 'noisy_vdp'\n",
    "\n",
    "# save_dir.mkdir(parents=True, exist_ok=True)\n",
    "# npy_files = list(data_dir.glob('*.npy'))\n",
    "# print(data_dir)\n",
    "# for file in npy_files:\n",
    "#     target_name = file.name.removesuffix('.npy')\n",
    "\n",
    "#     target_trajs = np.load(file)\n",
    "#     print(target_name, 'dim = ', target_trajs.shape[2])\n",
    "#     file_ = data_dir / f'{target_name}.npy'\n",
    "\n",
    "# file = npy_files[0]\n",
    "# target_name = file.name.removesuffix('.npy')\n",
    "# print(\"Starting training motifs on system\", target_name)\n",
    "# for archetype in archetypes_2d:\n",
    "#     print('training archetype', archetype)\n",
    "#     run_on_target(target_name, save_dir=save_dir, data_dir=data_dir, ds_motif=archetype, analytic=True, canonical=True)"
   ]
  },
  {
   "cell_type": "code",
   "execution_count": null,
   "id": "7328487a",
   "metadata": {},
   "outputs": [],
   "source": [
    "# #bla pert\n",
    "# from pathlib import Path\n",
    "# exp_dir = Path('experiments')\n",
    "\n",
    "# data_dir = exp_dir / 'bla_pert' \n",
    "# save_dir = data_dir / 'motif_fits'\n",
    "# save_dir.mkdir(parents=True, exist_ok=True)\n",
    "# npy_files = list(data_dir.glob('*.npy'))\n",
    "# print(data_dir)\n",
    "\n",
    "# for file in npy_files:\n",
    "#     target_name = file.name.removesuffix('.npy')\n",
    "\n",
    "#     target_trajs = np.load(file)\n",
    "#     print(target_name)\n",
    "#     file_ = data_dir / f'{target_name}.npy'\n",
    "#     for archetype in archetypes_2d:\n",
    "#         print('training archetype', archetype)\n",
    "#         run_on_target(target_name, save_dir=save_dir, data_dir=data_dir, ds_motif=archetype, analytic=True, canonical=True)"
   ]
  },
  {
   "cell_type": "code",
   "execution_count": null,
   "id": "f2c9a8f2",
   "metadata": {},
   "outputs": [],
   "source": []
  }
 ],
 "metadata": {
  "kernelspec": {
   "display_name": "CIT_",
   "language": "python",
   "name": "python3"
  },
  "language_info": {
   "codemirror_mode": {
    "name": "ipython",
    "version": 3
   },
   "file_extension": ".py",
   "mimetype": "text/x-python",
   "name": "python",
   "nbconvert_exporter": "python",
   "pygments_lexer": "ipython3",
   "version": "3.10.13"
  }
 },
 "nbformat": 4,
 "nbformat_minor": 5
}
