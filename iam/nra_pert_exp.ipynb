{
 "cells": [
  {
   "cell_type": "code",
   "execution_count": null,
   "id": "4acbcb04",
   "metadata": {},
   "outputs": [],
   "source": [
    "import torch\n",
    "from torchdiffeq import odeint\n",
    "import torch.nn.functional as F\n",
    "import torch.nn as nn\n",
    "import torch.optim as optim\n",
    "from torch.utils.data import random_split\n",
    "device = torch.device(\"cuda\" if torch.cuda.is_available() else \"cpu\")\n",
    "\n",
    "import numpy as np\n",
    "import matplotlib as mpl\n",
    "import matplotlib.pyplot as plt\n",
    "import matplotlib.colors as mcolors\n",
    "from matplotlib.ticker import MaxNLocator\n",
    "import seaborn as sns\n",
    "import pickle\n",
    "import pandas as pd\n",
    "\n",
    "from abc import ABC, abstractmethod\n",
    "import time, random, itertools\n",
    "from typing import Callable, Tuple, List, Optional\n",
    "from scipy.integrate import solve_ivp\n",
    "from scipy.interpolate import RegularGridInterpolator\n",
    "import tqdm\n",
    "import os\n",
    "\n",
    "from scripts.utils import set_seed\n",
    "from scripts.ds_class import *\n",
    "from scripts.homeos import *\n",
    "from scripts.plotting import *\n",
    "from scripts.fit_motif import *\n",
    "from scripts.time_series import *\n",
    "from scripts.ra import *\n",
    "from scripts.exp_tools import *\n",
    "set_seed(313)\n",
    "exp_folder = 'experiments/'"
   ]
  },
  {
   "cell_type": "code",
   "execution_count": null,
   "id": "eae861d9",
   "metadata": {},
   "outputs": [],
   "source": [
    "ds_motif_list = ['ring'] #, 'lc', 'lds', 'bla']\n",
    "noise_std_list = [0.0]  \n",
    "random_seed_list = [0, 10, 20, 100, 200]\n",
    "for noise_std in noise_std_list:\n",
    "    for ds_motif in ds_motif_list:\n",
    "        for random_seed_run in random_seed_list:\n",
    "            perthomeo_exp(ds_motif=ds_motif, noise_std=noise_std, random_seed_run=random_seed_run)"
   ]
  },
  {
   "cell_type": "code",
   "execution_count": null,
   "id": "c7605967",
   "metadata": {},
   "outputs": [],
   "source": [
    "# #load data\n",
    "# save_dir_homeo = \"experiments/homeopert_ring/ring\"\n",
    "# df = pd.read_pickle(f\"{save_dir_homeo}/summary_df.pkl\")"
   ]
  },
  {
   "cell_type": "code",
   "execution_count": 1,
   "id": "6b7ae558",
   "metadata": {},
   "outputs": [],
   "source": [
    "# ###test models\n",
    "# inv_man_list = []\n",
    "# jac_norm_list = []\n",
    "# for i, row in df.iterrows():\n",
    "#     interpol_value = row['interpol_value']\n",
    "#     all_parameters = pickle.load(open(save_dir_homeo+\"/parameters.pkl\", \"rb\"))\n",
    "#     all_parameters['homeo_params']['layer_sizes'] = [128]\n",
    "#     all_parameters['simulation_params']['ds_params']['alpha_init'] = None\n",
    "#     all_parameters['simulation_params']['ds_params']['canonical'] = True\n",
    "#     homeo = build_homeomorphism(all_parameters['homeo_params'])\n",
    "#     dynsys = build_ds_motif(**all_parameters['simulation_params']['ds_params'])\n",
    "#     #dynsys.alpha = torch.nn.Parameter(torch.tensor(-1.))\n",
    "#     homeo_ds_net = load_homeo_ds_net(f\"{save_dir_homeo}/homeo_{interpol_value}.pth\", homeo, dynsys)\n",
    "#     homeo_ds_net.eval()\n",
    "#     homeo_ds_net.dynamical_system.alpha = -1.\n",
    "#     trajectories_target = np.load(f\"experiments/homeopert_ring/trajectories_target_{row.interpol_value}.npy\")\n",
    "#     trajectories_target = torch.tensor(trajectories_target, dtype=torch.float32)\n",
    "#     traj_src_np, traj_trans_np, _ = test_single_homeo_ds_net(homeo_ds_net=homeo_ds_net, trajectories_target=trajectories_target)\n",
    "#     traj_trans = torch.tensor(traj_trans_np, dtype=torch.float32)\n",
    "#     inv_man = homeo_ds_net.invariant_manifold()\n",
    "#     inv_man_list.append(inv_man)\n",
    "\n",
    "#     # jac_norm = jacobian_norm_over_batch(homeo_ds_net.homeo_network, traj_trans.reshape(-1, all_parameters['simulation_params']['ds_params']['dim']), norm_type='spectral')\n",
    "#     # #jac_norm_list.append(jac_norm)\n",
    "#     # jac_norm2 = jacobian_spectral_norm(homeo_ds_net.homeo_network, traj_trans, subtract_identity=True, normalize=True, n_iter=20)\n",
    "#     # print(f\"Interpol value: {interpol_value}, Jacobian norm: {jac_norm.item()}\", jac_norm2.item())\n",
    "\n",
    "#     # np.save(f\"{save_dir_homeo}/traj_motif_transformed_{interpol_value}.npy\", traj_trans_np) \n",
    "#     # np.save(f\"{save_dir_homeo}/traj_motif_source_{interpol_value}.npy\", traj_src_np) #save trajectories_motif directly from the source "
   ]
  },
  {
   "cell_type": "code",
   "execution_count": 2,
   "id": "9215076c",
   "metadata": {},
   "outputs": [],
   "source": [
    "# target_jac_norm_list = []\n",
    "# dim = all_parameters['simulation_params']['ds_params']['dim']\n",
    "# dt = all_parameters['simulation_params']['dt']\n",
    "# time_span = all_parameters['simulation_params']['time_span']\n",
    "# generator_ra = AnalyticalRingAttractor(dim=dim, dt=dt, time_span=time_span)\n",
    "# simulation_params = all_parameters['simulation_params']\n",
    "# init_conds = prepare_initial_conditions(\n",
    "#     mode=simulation_params['initial_conditions_mode'],\n",
    "#     num_points=simulation_params['number_of_target_trajectories'],\n",
    "#     margin=simulation_params['margin'],\n",
    "#     seed=simulation_params['seed']\n",
    "# )\n",
    "# ra_trajs = generator_ra.compute_trajectory(torch.tensor(init_conds, dtype=torch.float32))\n",
    "# for i, row in df.iterrows():\n",
    "#     interpol_value = row['interpol_value']\n",
    "#     target_homeo = build_homeomorphism(all_parameters['target_homeo_params'])\n",
    "#     interpolated_homeo = rescale_node_vf(target_homeo, interpol_value)\n",
    "#     jac_norm = jacobian_norm_over_batch(interpolated_homeo, ra_trajs.reshape(-1, dim), norm_type='spectral')\n",
    "#     target_jac_norm_list.append(jac_norm)"
   ]
  },
  {
   "cell_type": "code",
   "execution_count": 9,
   "id": "6bb3b8a2",
   "metadata": {},
   "outputs": [],
   "source": [
    "#time length generalization\n",
    "# length_factor = 10\n",
    "# maxT_long = maxT/2*length_factor\n",
    "# tsteps_long = (tsteps-15)*length_factor\n",
    "# time_span_long = torch.tensor([0.0, time_span[1]*length_factor])\n",
    "# init_conds_trg = torch.tensor(inv_man, dtype=torch.float32)\n",
    "# trajectories_source_long, transformed_trajectories_long = generate_trajectories_from_initial_conditions(homeo_ds_net, init_conds_trg, time_span_long)"
   ]
  },
  {
   "cell_type": "markdown",
   "id": "10d28890",
   "metadata": {},
   "source": [
    "## Vector field perturbation experiment"
   ]
  },
  {
   "cell_type": "code",
   "execution_count": null,
   "id": "259fbce9",
   "metadata": {},
   "outputs": [],
   "source": [
    "ds_motif_list = ['ring'] #['ring', 'lc', 'lds', 'bla', 'bistable']\n",
    "for ds_motif in ds_motif_list:\n",
    "    for random_seed_run in random_seed_list:\n",
    "        run_pert_ra_experiment(ds_motif=ds_motif)"
   ]
  },
  {
   "cell_type": "code",
   "execution_count": null,
   "id": "30f0cc85",
   "metadata": {},
   "outputs": [],
   "source": [
    "# #load data\n",
    "# save_dir_pertvf_sra = \"experiments/vf_pert_ring/simple\"\n",
    "# df = pd.read_pickle(f\"{save_dir_pertvf_sra}/summary_df.pkl\")"
   ]
  },
  {
   "cell_type": "code",
   "execution_count": 14,
   "id": "75eabf50",
   "metadata": {},
   "outputs": [],
   "source": [
    "# test models \n",
    "# for i, row in df.iterrows():\n",
    "#     p_norm = row['p_norm']\n",
    "#     all_parameters = pickle.load(open(f\"{save_dir_pertvf_sra}/parameters.pkl\", \"rb\"))\n",
    "#     layer_sizes = all_parameters['homeo_params']['layer_sizes']\n",
    "#     alpha_init = all_parameters['simulation_params']['ds_params']['alpha_init']\n",
    "#     homeo = NODEHomeomorphism(dim=2, layer_sizes=[128], activation=nn.ReLU)        \n",
    "#     dynsys = AnalyticalRingAttractor(dim=2, alpha_init=None, dt=0.05, time_span=torch.tensor([0.0, 5.]))\n",
    "#     homeo_ds_net = load_homeo_ds_net(f\"{save_dir_pertvf_sra}/homeo_{p_norm}.pth\", homeo, dynsys)\n",
    "#     homeo_ds_net.eval()\n",
    "#     trajectories_target = np.load(f\"{save_dir_pertvf_sra}/trajectories_target_{row.p_norm}.npy\")\n",
    "#     trajectories_target = torch.tensor(trajectories_target, dtype=torch.float32)\n",
    "#     traj_src_np, traj_trans_np, _ = test_single_homeo_ds_net(homeo_ds_net=homeo_ds_net, trajectories_target=trajectories_target)\n",
    "\n",
    "#     np.save(f\"{save_dir_pertvf_sra}/traj_motif_transformed_{p_norm}.npy\", traj_trans_np) \n",
    "#     np.save(f\"{save_dir_pertvf_sra}/traj_motif_source_{p_norm}.npy\", traj_src_np) #save trajectories_motif directly from the source \n"
   ]
  },
  {
   "cell_type": "code",
   "execution_count": null,
   "id": "573545a2",
   "metadata": {},
   "outputs": [],
   "source": []
  }
 ],
 "metadata": {
  "kernelspec": {
   "display_name": "CIT_",
   "language": "python",
   "name": "python3"
  },
  "language_info": {
   "codemirror_mode": {
    "name": "ipython",
    "version": 3
   },
   "file_extension": ".py",
   "mimetype": "text/x-python",
   "name": "python",
   "nbconvert_exporter": "python",
   "pygments_lexer": "ipython3",
   "version": "3.10.13"
  }
 },
 "nbformat": 4,
 "nbformat_minor": 5
}
