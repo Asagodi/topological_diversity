{
 "cells": [
  {
   "cell_type": "code",
   "execution_count": 1,
   "id": "6f7a56ba-b9e4-481c-a0a0-b69368e31b56",
   "metadata": {},
   "outputs": [
    {
     "name": "stderr",
     "output_type": "stream",
     "text": [
      "C:\\Users\\abel_\\anaconda3\\envs\\CIT_\\lib\\site-packages\\tqdm\\auto.py:22: TqdmWarning: IProgress not found. Please update jupyter and ipywidgets. See https://ipywidgets.readthedocs.io/en/stable/user_install.html\n",
      "  from .autonotebook import tqdm as notebook_tqdm\n"
     ]
    }
   ],
   "source": [
    "import glob\n",
    "import os, sys\n",
    "os.path.abspath(os.getcwd())\n",
    "sys.path.append(\"C:\\\\Users\\\\abel_\\\\Documents\\\\Rotations\\\\CIT\\\\cit_for_computation\")\n",
    "\n",
    "import torch\n",
    "import torch.nn as nn\n",
    "import pandas\n",
    "import numpy as np\n",
    "import numpy.ma as ma\n",
    "import pickle\n",
    "import time\n",
    "from tqdm.notebook import tqdm\n",
    "import matplotlib.cm as cmx\n",
    "import sklearn\n",
    "import sklearn.decomposition\n",
    "\n",
    "import proplot as pplt\n",
    "from fractions import Fraction\n",
    "\n",
    "device = torch.device('cuda:0' if torch.cuda.is_available() else 'cpu')\n",
    "from utils import *\n",
    "from tasks import DynamicPoissonClicks"
   ]
  },
  {
   "cell_type": "code",
   "execution_count": 2,
   "id": "47f17b7d-308b-4c6d-a357-386c052ece73",
   "metadata": {},
   "outputs": [
    {
     "data": {
      "text/plain": [
       "'C:\\\\Users\\\\abel_\\\\Documents\\\\Rotations\\\\CIT\\\\cit_for_computation\\\\experiments\\\\dynamic_poisson_clicks\\\\exp_bce_cosineannealing_50_rnn_cued_Nrec5_1666082116'"
      ]
     },
     "execution_count": 2,
     "metadata": {},
     "output_type": "execute_result"
    }
   ],
   "source": [
    "current_dir = 'C:\\\\Users\\\\abel_\\\\Documents\\\\Rotations\\\\CIT\\cit_for_computation'\n",
    "exp_extension = \"\\\\experiments\\\\dynamic_poisson_clicks\\\\\"\n",
    "\n",
    "exp_list = glob.glob(current_dir + exp_extension + \"\\\\*\")\n",
    "exp_path = exp_list[1]\n",
    "with open(exp_path + '\\\\training_kwargs.pickle', 'rb') as handle:\n",
    "    training_kwargs = pickle.load(handle)\n",
    "\n",
    "training_kwargs['exp_path'] = exp_path\n",
    "training_kwargs['training_weights_path'] = exp_path + '/training/'\n",
    "training_kwargs['figures_path'] = exp_path + '//figures/'\n",
    "\n",
    "N_rec = training_kwargs['N_rec']\n",
    "N_in =  training_kwargs['N_in']\n",
    "N_out = training_kwargs['N_out']\n",
    "\n",
    "rnn_model = RNNModel(N_in, N_out, N_rec, n_layers=1, transform_function='relu').to(device)\n",
    "rnn_model = load_model(rnn_model, training_kwargs).to(device)\n",
    "exp_path"
   ]
  },
  {
   "cell_type": "code",
   "execution_count": 3,
   "id": "9707e750-3915-4499-a421-ef6b40af4e6d",
   "metadata": {},
   "outputs": [],
   "source": [
    "#load\n",
    "with open(exp_path + \"\\\\dataset.pickle\", 'rb') as handle:\n",
    "    dataset = pickle.load(handle)\n",
    "train_set, test_set = dataset\n",
    "test_x, test_y, output_mask, trial_params = train_set\n",
    "    \n",
    "# #create\n",
    "# pdc = DynamicPoissonClicks(10000, training_kwargs)\n",
    "# test_x, test_y, output_mask, trial_params =  pdc.get_trial_batch()\n",
    "\n",
    "inputs = torch.tensor(test_x, dtype=torch.float)\n",
    "yhat, hidden = rnn_model(inputs)\n",
    "yhat = yhat.cpu().detach().numpy()\n",
    "\n",
    "trial_params = np.array(trial_params)"
   ]
  },
  {
   "cell_type": "code",
   "execution_count": 11,
   "id": "285572d7-c764-439f-a471-ad94da0359c1",
   "metadata": {},
   "outputs": [
    {
     "name": "stdout",
     "output_type": "stream",
     "text": [
      "0.997625\n"
     ]
    }
   ],
   "source": [
    "chosen = np.argmax(np.mean(yhat*output_mask, axis=1), axis = 1)\n",
    "truth = np.argmax(np.mean(test_y*output_mask, axis = 1), axis = 1)\n",
    "response_correctness = np.equal(truth, chosen)\n",
    "error_idx = np.where(response_correctness==False)[0]\n",
    "correct_idx = np.where(response_correctness==True)[0]\n",
    "\n",
    "accuracy = pd_accuracy_function(test_y, yhat, output_mask)\n",
    "print(accuracy)"
   ]
  },
  {
   "cell_type": "code",
   "execution_count": null,
   "id": "46ec5bb4-d0ee-4723-98b9-05076e6a32df",
   "metadata": {},
   "outputs": [],
   "source": []
  },
  {
   "cell_type": "code",
   "execution_count": 12,
   "id": "94c84967-550d-4873-9759-092326b1875e",
   "metadata": {},
   "outputs": [],
   "source": [
    "from scipy.optimize import minimize\n",
    "# f = lambda x: \n",
    "\n",
    "# θ can be described in words as an initial noise variance σi2, a per-click noise variance σs2,\n",
    "# a memory noise variance \\sigma_a^2,\n",
    "# a discounting rate λ,\n",
    "# the strength and time constant of adaptation φ and τ_φ,\n",
    "# a decision boundary B,\n",
    "# which captures the animal’s bias,\n",
    "# and a lapse rate l."
   ]
  },
  {
   "cell_type": "code",
   "execution_count": 13,
   "id": "d5a6af61-afd5-41c8-b390-b7f5f330f1f4",
   "metadata": {},
   "outputs": [],
   "source": [
    "#eq 10 from Boyd-Meredith\n",
    "# each moment in the trial, the forward model f(a) = P(t, δR, δL, θ, a_0 \\sim N(0; \\sigma_i^2)) predicts a Gaussian distribution of accumulation values with mean \\mu(t) and variance \\sigma^2(t) given by:\n",
    "def mu_t(params, t, clicks):\n",
    "    \"clicks includes the clicks times for left (0, i.e. first column) and right (1, second col)\"\n",
    "    l, lam, sigma_init, sigma_s, simga_a, B = params[:6]\n",
    "    C = params[6:]\n",
    "    return np.sum(np.exp(lam*(t-clicks[1].astype(float)))*C[clicks[1].astype(int)]) - np.sum(np.exp(lam*(t-clicks[0].astype(float)))*C[clicks[0].astype(int)])"
   ]
  },
  {
   "cell_type": "code",
   "execution_count": 14,
   "id": "9650063d-aaa8-4927-b430-e420345e2fc6",
   "metadata": {},
   "outputs": [
    {
     "data": {
      "text/plain": [
       "-1.8126726864874158e-07"
      ]
     },
     "execution_count": 14,
     "metadata": {},
     "output_type": "execute_result"
    }
   ],
   "source": [
    "trial_i = 0\n",
    "clicks= np.array([np.where(test_x[trial_i,:,0]>0)[0], np.where(test_x[trial_i,:,1]>0)[0]], dtype=list)\n",
    "t = 10\n",
    "lam = 1.\n",
    "C = 0.5*np.ones((2000))\n",
    "sigma_init = 0.1\n",
    "sigma_s = 1\n",
    "sigma_a = 1\n",
    "B = 1\n",
    "l = 0.1\n",
    "params = np.concatenate(([l, lam, sigma_init, sigma_s, sigma_a, B], C))"
   ]
  },
  {
   "cell_type": "code",
   "execution_count": 15,
   "id": "16c134fe-f90d-4af8-8979-d490e5342eae",
   "metadata": {},
   "outputs": [],
   "source": [
    "#eq 11: variance\n",
    "def sigma_t(params, t, clicks):\n",
    "    l, lam, sigma_init, sigma_s, simga_a, B = params[:6]\n",
    "    C = params[6:]\n",
    "    integral = sigma_s**2*(np.sum(np.exp(2*lam*(t-clicks[1].astype(float)))*C[clicks[1].astype(int)]) - np.sum(np.exp(2*lam*(t-clicks[0].astype(float)))*C[clicks[0].astype(int)]))\n",
    "    return sigma_init**2*np.exp(2*lam*t) + sigma_a**2*(np.exp(2*lam*t)-1)/(2*lam) + integral"
   ]
  },
  {
   "cell_type": "code",
   "execution_count": 16,
   "id": "b50eb48d-9d2a-4ffc-8a01-2174d6c9b299",
   "metadata": {},
   "outputs": [],
   "source": [
    "#eq 12: To determine the probability of a right versus left choice, we first integrate the accumulation value distribution in the last timepoint tN of the trial from the decision boundary parameter B to ∞\n",
    "\n",
    "def prob_of_rvsl(params, t_N, clicks):\n",
    "    mu_tN = mu_t(params, t_N, clicks)\n",
    "    sigma_tN = sigma_t(params, t, clicks)\n",
    "    return 0.5*(1+scipy.special.erf(-(B-mu_tN)/(sigma_tN*np.sqrt(2))))"
   ]
  },
  {
   "cell_type": "code",
   "execution_count": 17,
   "id": "29f08da1-6376-4f27-b563-f3e032c62ad2",
   "metadata": {},
   "outputs": [],
   "source": [
    "#eq 13/14\n",
    "def prob_goright(params, y, t_N, clicks):\n",
    "    l = params[-1]\n",
    "    prob_of_r = prob_of_rvsl(params, t_N, clicks)\n",
    "    if y==1.:\n",
    "        return (1-l)*prob_of_r+l/2.\n",
    "    elif y==-1.:\n",
    "        return (1-l)*(1-prob_of_r)+l/2."
   ]
  },
  {
   "cell_type": "code",
   "execution_count": 18,
   "id": "61f8d77b-6a7b-4936-b2f9-69b46a6be7e8",
   "metadata": {},
   "outputs": [],
   "source": [
    "trial_i = 0\n",
    "t_N = np.argmax(test_y[trial_i,:,0]!=0.5)-1 #-1 or not?\n",
    "y = 2*(chosen[trial_i]-.5)"
   ]
  },
  {
   "cell_type": "code",
   "execution_count": 19,
   "id": "00ccd2ab-487a-44ca-bccd-f3c9a75c5972",
   "metadata": {},
   "outputs": [],
   "source": [
    "n_trials = test_x.shape[0]\n",
    "all_clicks = [np.array([np.where(test_x[trial_i,:,0]>0)[0], np.where(test_x[trial_i,:,1]>0)[0]], dtype=list) for trial_i in range(n_trials)]\n",
    "# all_clicks = [np.array([np.where(test_x[trial_i,:,0]>0)[0].astype(np.float), np.where(test_x[trial_i,:,1]>0)[0].astype(np.float)], dtype=list) for trial_i in range(n_trials)]\n",
    "\n",
    "t_Ns = [np.argmax(test_y[trial_i,:,0]!=0.5)-1 for trial_i in range(n_trials)]\n",
    "ys = [2*(chosen[trial_i]-.5) for trial_i in range(n_trials)]"
   ]
  },
  {
   "cell_type": "code",
   "execution_count": 20,
   "id": "b6071de5-9734-4858-9549-1869b97ef6c3",
   "metadata": {},
   "outputs": [],
   "source": [
    "# likelihood = prod_i prob_goright()[i]\n",
    "def log_likelihood_all(params, ys, t_Ns, all_clicks):\n",
    "    \"log likelihood of data given parameters\"\n",
    "    log_likelihoods = []\n",
    "    for trial_i in range(len(all_clicks)):\n",
    "        clicks = all_clicks[trial_i]\n",
    "        t_N = t_Ns[trial_i]\n",
    "        y = ys[trial_i]\n",
    "        log_likelihood_i = np.log(prob_goright(params, y, t_N, clicks))\n",
    "        log_likelihoods.append(log_likelihood_i)\n",
    "    return -np.sum(log_likelihoods)"
   ]
  },
  {
   "cell_type": "code",
   "execution_count": 22,
   "id": "766d3f98-bee4-4766-875b-c9c48b6b8209",
   "metadata": {},
   "outputs": [],
   "source": [
    "x0 = np.array(params)"
   ]
  },
  {
   "cell_type": "code",
   "execution_count": 23,
   "id": "eae89076-1933-4e9c-9ad6-1b4650027600",
   "metadata": {},
   "outputs": [],
   "source": [
    "res = minimize(log_likelihood_all, x0=x0, args=(ys, t_Ns, all_clicks), tol=1e-6)"
   ]
  },
  {
   "cell_type": "code",
   "execution_count": null,
   "id": "434aefa0-512a-46fe-9dc5-228bd7f9888d",
   "metadata": {},
   "outputs": [],
   "source": []
  }
 ],
 "metadata": {
  "kernelspec": {
   "display_name": "Python 3 (ipykernel)",
   "language": "python",
   "name": "python3"
  },
  "language_info": {
   "codemirror_mode": {
    "name": "ipython",
    "version": 3
   },
   "file_extension": ".py",
   "mimetype": "text/x-python",
   "name": "python",
   "nbconvert_exporter": "python",
   "pygments_lexer": "ipython3",
   "version": "3.10.6"
  }
 },
 "nbformat": 4,
 "nbformat_minor": 5
}
