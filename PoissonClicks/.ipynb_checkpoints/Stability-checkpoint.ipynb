{
 "cells": [
  {
   "cell_type": "code",
   "execution_count": 1,
   "id": "13bb25ad-ba7e-460b-aeba-892d9bd1a263",
   "metadata": {},
   "outputs": [
    {
     "name": "stderr",
     "output_type": "stream",
     "text": [
      "C:\\Users\\abel_\\anaconda3\\envs\\CIT_\\lib\\site-packages\\tqdm\\auto.py:22: TqdmWarning: IProgress not found. Please update jupyter and ipywidgets. See https://ipywidgets.readthedocs.io/en/stable/user_install.html\n",
      "  from .autonotebook import tqdm as notebook_tqdm\n"
     ]
    }
   ],
   "source": [
    "import glob\n",
    "import os, sys\n",
    "import inspect\n",
    "currentdir = os.path.dirname(os.path.abspath(os.getcwd()))\n",
    "parentdir = os.path.dirname(currentdir)\n",
    "sys.path.insert(0, currentdir) \n",
    "\n",
    "import torch\n",
    "import torch.nn as nn\n",
    "import pandas\n",
    "import numpy as np\n",
    "import numpy.ma as ma\n",
    "import pickle\n",
    "import time\n",
    "\n",
    "import proplot as pplt\n",
    "import seaborn as sns\n",
    "import sklearn\n",
    "import re \n",
    "from fractions import Fraction\n",
    "import scipy.stats as st\n",
    "\n",
    "label_size = 12\n",
    "pplt.rc['tick.labelsize'] = label_size \n",
    "pplt.rc['axes.labelsize'] = label_size + 3\n",
    "sns.set_context(\"poster\", font_scale = 1, rc={\"grid.linewidth\": 5})\n",
    "\n",
    "# device = torch.device('cuda:0' if torch.cuda.is_available() else 'cpu')\n",
    "device = 'cpu'\n",
    "from utils import *\n",
    "from plotting_functions import *"
   ]
  },
  {
   "cell_type": "code",
   "execution_count": 2,
   "id": "33fa6787-5031-475b-9293-b0797d4cadd3",
   "metadata": {},
   "outputs": [
    {
     "name": "stdout",
     "output_type": "stream",
     "text": [
      "C:\\Users\\abel_\\Documents\\Rotations\\CIT\\cit_for_computation\\experiments\\poisson_clicks\\perfect_model\\exp_Nrec30_1667838288\\weights1667838288.pth\n"
     ]
    }
   ],
   "source": [
    "#load model\n",
    "exp_list = glob.glob(currentdir+\"\\\\experiments\\\\poisson_clicks\\\\perfect_model\\\\exp*8288\") #01 #92#51, list experiment folders\n",
    "exp_list = sorted(exp_list, key = lambda x: int(x[-10:]))\n",
    "exp_path = exp_list[-1]\n",
    "idx = exp_path[-10:]\n",
    "exp_path\n",
    "\n",
    "with open(exp_path + '\\\\training_kwargs.pickle', 'rb') as handle:\n",
    "    training_kwargs = pickle.load(handle)\n",
    "\n",
    "training_kwargs['exp_path'] = exp_path\n",
    "training_kwargs['training_weights_path'] = exp_path+'/training/'\n",
    "training_kwargs['figures_path'] = exp_path + '//figures/'\n",
    "\n",
    "\n",
    "rnn_model = RNNModel(training_kwargs['N_in'], training_kwargs['N_out'], training_kwargs['N_rec'], n_layers=1, transform_function='relu').to(device)\n",
    "# rnn_model = RNNModel(training_kwargs['N_in'], training_kwargs['N_out'], training_kwargs['N_rec'], n_layers=1, transform_function='relu', constrain_spectrum=training_kwargs['constrain_spectrum']).to(device)\n",
    "rnn_model = load_model(rnn_model, training_kwargs).to(device)"
   ]
  },
  {
   "cell_type": "code",
   "execution_count": 3,
   "id": "b1f024d7-2174-4f97-be34-4527166552ad",
   "metadata": {},
   "outputs": [],
   "source": [
    "weights_dict = {key: pandas.DataFrame(rnn_model.state_dict()[key]) for key in rnn_model.state_dict().keys()}\n",
    "W_hh = rnn_model.state_dict()['rnn.weight_hh_l0'] \n",
    "W_ih = weights_dict['rnn.weight_ih_l0'] \n",
    "b_h = weights_dict['rnn.bias_hh_l0']\n",
    "b_in = weights_dict['rnn.bias_ih_l0']\n",
    "\n",
    "\n",
    "b = b_in + b_h\n",
    "b = b[0].to_numpy()\n",
    "W_hh = W_hh.numpy()\n",
    "W_ih = W_ih.to_numpy()\n",
    "\n",
    "I = np.array([0.,0.,0.,0.])\n"
   ]
  },
  {
   "cell_type": "code",
   "execution_count": 5,
   "id": "139b7f53-3f59-4132-bb1d-cac2f9a5bdef",
   "metadata": {},
   "outputs": [],
   "source": [
    "fun = partial(relu_step_input, W=W_hh, b=b, W_ih=W_ih, I=I)\n",
    "fun = partial(relu_step, W=W_hh, b=b)\n",
    "fxd_pnts = find_fixed_points_grid(fun,  training_kwargs['N_rec'], max_grid=1, step=1, tol = 10**-4,  maxiter = 10000,\n",
    "                      method='Nelder-Mead', verbose=False)"
   ]
  },
  {
   "cell_type": "code",
   "execution_count": 6,
   "id": "4c6b2e0f-0bae-480b-afd7-4cfa48f8c321",
   "metadata": {},
   "outputs": [
    {
     "data": {
      "text/plain": [
       "array([], dtype=float64)"
      ]
     },
     "execution_count": 6,
     "metadata": {},
     "output_type": "execute_result"
    }
   ],
   "source": [
    "fxd_pnts"
   ]
  },
  {
   "cell_type": "code",
   "execution_count": 31,
   "id": "1cc9691f-6fbb-4ef9-8f8f-f637ffba916f",
   "metadata": {},
   "outputs": [
    {
     "data": {
      "text/plain": [
       "6.6790063102028645"
      ]
     },
     "execution_count": 31,
     "metadata": {},
     "output_type": "execute_result"
    }
   ],
   "source": [
    "N_rec = training_kwargs['N_rec']\n",
    "x0 = np.random.random(N_rec)*10\n",
    "opt = minimize(\n",
    "            lambda x: np.linalg.norm(fun(x) - x),\n",
    "            x0=x0,\n",
    "            method='Nelder-Mead',\n",
    "            constraints=None, \n",
    "            bounds=[(0., np.Inf)],\n",
    "            tol=1e-4,\n",
    "            callback=None,\n",
    "            options={})\n",
    "fxd_pnt = opt.x\n",
    "np.linalg.norm(fun(fxd_pnt) - fxd_pnt)"
   ]
  },
  {
   "cell_type": "code",
   "execution_count": 37,
   "id": "b3f058c2-41bf-43e7-b735-6f762e711e19",
   "metadata": {},
   "outputs": [],
   "source": [
    "def find_fixed_points_random(fun, Nrec, low=0.0, high=1.0, n_starts=100, tol = 10**-4,  maxiter = 10000,\n",
    "                      method='Nelder-Mead', verbose=False, bounds=None):\n",
    "    options = {\"disp\": verbose, \"maxiter\": maxiter}\n",
    "    \n",
    "    #create starting points to start search\n",
    "    x_inits = np.random.uniform(low=low, high=high, size=(n_starts, Nrec))\n",
    "\n",
    "    # constraint = {LinearConstraint([1], [-tol], [tol])} #use contraint to find real fixed point, not just minimum\n",
    "    if bounds:\n",
    "        bounds = [(0., np.Inf)]\n",
    "    results = []\n",
    "    for x0 in x_inits:\n",
    "        opt = minimize(\n",
    "            lambda x: np.linalg.norm(fun(x) - x),\n",
    "            x0=x0,\n",
    "            method=method,\n",
    "            constraints=None, \n",
    "            bounds=bounds,\n",
    "            tol=tol,\n",
    "            callback=None,\n",
    "            options=options)\n",
    "        if opt.success:\n",
    "            results.append(opt.x)\n",
    "\n",
    "    results = np.array(results)\n",
    "    return results"
   ]
  },
  {
   "cell_type": "code",
   "execution_count": 41,
   "id": "ab946f49-5137-42f1-934b-dd3734552ba3",
   "metadata": {},
   "outputs": [],
   "source": [
    "fxd_pnts = find_fixed_points_random(fun, training_kwargs['N_rec'], low=0.0, high=5.0, n_starts=100, tol = 10**-5,  maxiter = 10000,\n",
    "                      method='CG', verbose=False)"
   ]
  },
  {
   "cell_type": "code",
   "execution_count": 42,
   "id": "dfe18ccb-bc82-4dc0-96d0-36d68a0c56e5",
   "metadata": {},
   "outputs": [
    {
     "name": "stdout",
     "output_type": "stream",
     "text": [
      "8.513018802650932e-06\n",
      "1.3937240620685922e-06\n",
      "1.3937361080547204e-06\n",
      "1.5612686479408462e-06\n",
      "8.517095965371061e-06\n"
     ]
    }
   ],
   "source": [
    "\n",
    "velocities = []\n",
    "for fxd_pnt in fxd_pnts:\n",
    "    q = np.linalg.norm(relu_step(fxd_pnt, W=W_hh, b=b)-fxd_pnt)\n",
    "    print(q)\n",
    "    velocities.append(q)"
   ]
  },
  {
   "cell_type": "code",
   "execution_count": 43,
   "id": "142292d7-306d-44ff-a878-590b72abbd61",
   "metadata": {},
   "outputs": [
    {
     "data": {
      "text/plain": [
       "(array([3., 0., 0., 0., 0., 0., 0., 0., 0., 2.]),\n",
       " array([1.39372406e-06, 2.10606125e-06, 2.81839844e-06, 3.53073563e-06,\n",
       "        4.24307282e-06, 4.95541001e-06, 5.66774720e-06, 6.38008439e-06,\n",
       "        7.09242158e-06, 7.80475878e-06, 8.51709597e-06]),\n",
       " <BarContainer object of 10 artists>)"
      ]
     },
     "execution_count": 43,
     "metadata": {},
     "output_type": "execute_result"
    },
    {
     "data": {
      "image/png": "[encoded data removed]",
      "text/plain": [
       "<Figure size 400x400 with 1 Axes>"
      ]
     },
     "metadata": {
      "image/png": {
       "height": 400,
       "width": 400
      }
     },
     "output_type": "display_data"
    }
   ],
   "source": [
    "plt.hist(velocities)"
   ]
  },
  {
   "cell_type": "code",
   "execution_count": 44,
   "id": "46b5b32b-e8d4-4c29-bf42-3c2eabcb0707",
   "metadata": {},
   "outputs": [
    {
     "data": {
      "text/plain": [
       "array([[ 1.50968715e+00,  3.48110602e-07,  2.68083493e-07,\n",
       "         2.66276948e+00,  7.32741484e+00, -1.45411033e-07,\n",
       "         4.29140587e+00,  1.85105353e-07,  4.08622534e-01,\n",
       "         1.95277806e-06,  3.59589549e+00,  7.94537546e+00,\n",
       "         3.69869843e+00,  5.89289425e-01,  5.46020818e+00,\n",
       "         1.28722254e+00, -1.30640814e-07, -3.28385099e-07,\n",
       "        -3.24883230e-07,  1.58445772e+00,  3.52016800e-01,\n",
       "         2.60807038e+00,  5.28795042e+00, -2.02359421e-06,\n",
       "         3.35996440e+00,  1.06549240e-07,  1.08998335e-01,\n",
       "        -1.33118744e-06,  2.41017556e-06,  5.47110660e+00],\n",
       "       [ 6.05840708e-07,  1.81044147e+00,  6.49672183e-08,\n",
       "         2.44501550e-07,  5.41735274e-01,  6.74818229e-01,\n",
       "         3.37674354e+00,  1.52956847e+00,  4.73534652e-01,\n",
       "         1.70937025e+00,  5.87054587e-01,  3.80062536e-08,\n",
       "         2.62634894e-07,  3.02747409e+00,  5.56941056e-01,\n",
       "         1.53161039e+00, -1.06757171e-07, -3.36361527e-08,\n",
       "         2.61850271e-07,  3.07868113e+00,  4.34953392e-01,\n",
       "         3.06064259e-07,  7.80008201e-01,  1.18055095e-01,\n",
       "         1.67163239e-07,  1.10899132e-07,  7.28341430e-01,\n",
       "         4.42431576e-01,  1.45045001e+00,  3.31298374e-01],\n",
       "       [ 6.05855435e-07,  1.81044147e+00,  6.49664137e-08,\n",
       "         2.44500654e-07,  5.41735274e-01,  6.74818229e-01,\n",
       "         3.37674354e+00,  1.52956847e+00,  4.73534652e-01,\n",
       "         1.70937025e+00,  5.87054587e-01,  3.79987208e-08,\n",
       "         2.62637068e-07,  3.02747409e+00,  5.56941056e-01,\n",
       "         1.53161039e+00, -1.06754111e-07, -3.36307025e-08,\n",
       "         2.61850399e-07,  3.07868113e+00,  4.34953392e-01,\n",
       "         3.06072084e-07,  7.80008201e-01,  1.18055095e-01,\n",
       "         1.67157226e-07,  1.10897834e-07,  7.28341430e-01,\n",
       "         4.42431576e-01,  1.45045001e+00,  3.31298374e-01],\n",
       "       [ 3.50076953e-01, -8.00456419e-08,  6.68903454e-02,\n",
       "         3.90064131e-01,  2.07419493e+00, -8.15153216e-08,\n",
       "         2.72484736e+00, -2.25886876e-07,  3.00157328e-01,\n",
       "         2.39420540e-01,  1.61383607e+00,  2.12383111e+00,\n",
       "         1.19832509e+00,  1.16014805e+00,  2.29560147e+00,\n",
       "         1.25065558e+00, -6.29028258e-08,  6.36589931e-08,\n",
       "         9.04362644e-09,  1.85518359e+00,  3.29416032e-01,\n",
       "         2.88178721e-01,  1.83183267e+00,  2.58108553e-07,\n",
       "         8.58164604e-01, -1.30471094e-07, -3.80592900e-08,\n",
       "         1.85899210e-07, -4.78623637e-07,  1.46271725e+00],\n",
       "       [-4.68498712e-06,  1.28706636e+00, -2.32153129e-08,\n",
       "        -1.63096268e-06,  5.51029855e-01,  5.36889941e-01,\n",
       "         3.01792426e+00,  1.12296650e+00,  3.96443212e-01,\n",
       "         1.44418354e+00,  7.56094335e-01,  1.05932342e-02,\n",
       "         1.43423506e-01,  2.52265832e+00,  7.74268036e-01,\n",
       "         1.43293234e+00,  1.17801926e-06,  3.01888612e-10,\n",
       "        -1.57738317e-06,  2.63447480e+00,  3.81710596e-01,\n",
       "        -1.16458720e-06,  8.09102425e-01,  5.78191133e-02,\n",
       "         8.87945651e-03, -9.43790534e-07,  4.64973998e-01,\n",
       "         2.88512022e-01,  9.83326797e-01,  3.25442884e-01]])"
      ]
     },
     "execution_count": 44,
     "metadata": {},
     "output_type": "execute_result"
    }
   ],
   "source": [
    "fxd_pnts"
   ]
  },
  {
   "cell_type": "code",
   "execution_count": null,
   "id": "451ceaa5-6001-4515-9c97-ca92e26d3b21",
   "metadata": {},
   "outputs": [],
   "source": []
  }
 ],
 "metadata": {
  "kernelspec": {
   "display_name": "Python 3 (ipykernel)",
   "language": "python",
   "name": "python3"
  },
  "language_info": {
   "codemirror_mode": {
    "name": "ipython",
    "version": 3
   },
   "file_extension": ".py",
   "mimetype": "text/x-python",
   "name": "python",
   "nbconvert_exporter": "python",
   "pygments_lexer": "ipython3",
   "version": "3.10.6"
  }
 },
 "nbformat": 4,
 "nbformat_minor": 5
}
