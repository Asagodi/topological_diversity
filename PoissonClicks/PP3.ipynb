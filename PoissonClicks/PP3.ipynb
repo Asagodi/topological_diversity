{
 "cells": [
  {
   "cell_type": "code",
   "execution_count": 1,
   "id": "72768c1d-4b48-447f-bfe2-268013da9c2e",
   "metadata": {},
   "outputs": [
    {
     "name": "stderr",
     "output_type": "stream",
     "text": [
      "C:\\Users\\abel_\\anaconda3\\envs\\CIT_\\lib\\site-packages\\tqdm\\auto.py:22: TqdmWarning: IProgress not found. Please update jupyter and ipywidgets. See https://ipywidgets.readthedocs.io/en/stable/user_install.html\n",
      "  from .autonotebook import tqdm as notebook_tqdm\n"
     ]
    }
   ],
   "source": [
    "import glob\n",
    "import os, sys\n",
    "import inspect\n",
    "currentdir = os.path.dirname(os.path.abspath(os.getcwd()))\n",
    "parentdir = os.path.dirname(currentdir)\n",
    "sys.path.insert(0, currentdir) \n",
    "\n",
    "import torch\n",
    "import torch.nn as nn\n",
    "import pandas\n",
    "import numpy as np\n",
    "import numpy.ma as ma\n",
    "import pickle\n",
    "import time\n",
    "\n",
    "import seaborn as sns\n",
    "import sklearn\n",
    "import re \n",
    "from fractions import Fraction\n",
    "import scipy.stats as st\n",
    "\n",
    "sns.set_context(\"poster\", font_scale = 1, rc={\"grid.linewidth\": 5})\n",
    "\n",
    "device = 'cpu'\n",
    "from utils import *\n",
    "# from plotting_functions import *"
   ]
  },
  {
   "cell_type": "code",
   "execution_count": 2,
   "id": "d2aa7b7b-cff2-46c0-b1d1-7622c538a2b2",
   "metadata": {},
   "outputs": [],
   "source": [
    "delta = 0.01\n",
    "Integrator = np.array([[delta,-delta],[-delta,delta]])\n",
    "\n",
    "bias = np.array([1,1])\n",
    "\n",
    "W_in = Integrator\n",
    "\n",
    "W_hh = np.array([[0,-1],[-1,0]])     \n",
    "\n",
    "W_out = np.array([[0,0],[0,0]])                      \n",
    "\n",
    "ouput_bias = np.array([0,0])"
   ]
  },
  {
   "cell_type": "code",
   "execution_count": 3,
   "id": "b3ffca1f-ccf0-4e56-9d52-06c964299ad5",
   "metadata": {},
   "outputs": [],
   "source": [
    "def sigmoid(x):\n",
    "    return 1 / (1 + np.exp(-x))\n",
    "\n",
    "def iterate_relu(x0, W_hh, bias, Nsteps, W_in=0, I=0):\n",
    "    x = x0\n",
    "    xs = []\n",
    "    for i in range(Nsteps):\n",
    "        # x = relu_step(x, W_hh, bias)\n",
    "        x = relu_step_input(x, W_hh, bias, W_in, I)\n",
    "        xs.append(x)\n",
    "    return x, xs\n",
    "\n",
    "\n",
    "def iterate_relu_Is(x0, W_hh, bias, Nsteps, W_in=0, Is=[]):\n",
    "    x = x0\n",
    "    xs = []\n",
    "    for i in range(Nsteps):\n",
    "        # x = relu_step(x, W_hh, bias)\n",
    "        x = relu_step_input(x, W_hh, bias, W_in, Is[i])\n",
    "        xs.append(x)\n",
    "    return x, xs"
   ]
  },
  {
   "cell_type": "code",
   "execution_count": 4,
   "id": "0721307c-e569-471b-a3c6-3761aa44e627",
   "metadata": {},
   "outputs": [],
   "source": [
    "#Neuron functions: (for cued clicks task)\n",
    "#N1/N2: integration\n",
    "#N3-N5: reset\n",
    "#N6/N7: output"
   ]
  },
  {
   "cell_type": "code",
   "execution_count": 5,
   "id": "e06800cc",
   "metadata": {},
   "outputs": [],
   "source": [
    "delta = 0.001\n",
    "b = 1000\n",
    "Integrator = np.array([[delta,-delta,0,0],\n",
    "                       [-delta,delta,0,0],\n",
    "                       [0,0,100,0],\n",
    "                       [0,0,100,0],\n",
    "                       [0,0,1,0],\n",
    "                       [0,0,0,1],\n",
    "                       [0,0,0,0]])\n",
    "W_in = Integrator\n",
    "\n",
    "W_hh = np.array([[0,-1,-1,0,1/2.,0,0],\n",
    "                 [-1,0,0,-1,1/2.,0,0],\n",
    "                 [1,0,0,0,0,0,0],\n",
    "                 [0,1,0,0,0,0,0],\n",
    "                 [0,0,0,0,0,0,0],\n",
    "                 [0,0,0,0,0,0,0],\n",
    "                 [0,0,0,0,0,1,0]])     \n",
    "\n",
    "W_out_1 = np.array([[0,0,0,0,0,0,b],[0,0,0,0,0,0,b]])                      \n",
    "W_out_2 = 1/delta*np.array([[1,0,0,0,0,0,0],[-1,0,0,0,0,0,0]])\n",
    "W_out = W_out_1 + W_out_2\n",
    "\n",
    "bias = np.array([1,1,-100,-100,0,0,0])\n",
    "ouput_bias = np.array([-b-1/2*1/delta,-b+1/2*1/delta])"
   ]
  },
  {
   "cell_type": "code",
   "execution_count": null,
   "id": "92cf756c-8ffc-4ddf-9e9a-98030e982d69",
   "metadata": {},
   "outputs": [],
   "source": []
  },
  {
   "cell_type": "code",
   "execution_count": null,
   "id": "85b226f2-8b5f-4207-942c-9bf7f8cdf7a6",
   "metadata": {},
   "outputs": [],
   "source": []
  },
  {
   "cell_type": "code",
   "execution_count": 6,
   "id": "93863739-62a1-4df0-bbc0-2adb112ed2be",
   "metadata": {},
   "outputs": [],
   "source": [
    "N_rec_perfect = W_hh.shape[0]\n",
    "#embed perfect model into random network\n",
    "\n",
    "#random network\n",
    "N_rec = W_hh.shape[1] #20\n",
    "\n",
    "exp_list = glob.glob(currentdir+\"\\\\experiments\\\\poisson_clicks\\\\exp*51\")#list experiment folders\n",
    "exp_list = sorted(exp_list, key = lambda x: int(x[-10:]))\n",
    "exp_path = exp_list[-1]\n",
    "perfect_path = currentdir + \"//experiments//poisson_clicks//perfect_model//\"\n",
    "with open(exp_path + '\\\\training_kwargs.pickle', 'rb') as handle:\n",
    "    training_kwargs = pickle.load(handle)\n",
    "\n",
    "training_kwargs['exp_path'] = exp_path\n",
    "training_kwargs['training_weights_path'] = exp_path + '/training/'\n",
    "training_kwargs['figures_path'] = exp_path + '//figures/'\n",
    "training_kwargs['N_in'] = 4\n",
    "# device = torch.device('cuda:0' if torch.cuda.is_available() else 'cpu')\n",
    "device = 'cpu' #training_kwargs['device']\n",
    "makedirs(perfect_path)"
   ]
  },
  {
   "cell_type": "code",
   "execution_count": 7,
   "id": "6208f45e-401c-44e6-9958-e7a25b937f2e",
   "metadata": {},
   "outputs": [
    {
     "data": {
      "text/plain": [
       "RNNModel(\n",
       "  (rnn): RNN(4, 7, batch_first=True)\n",
       "  (fc): Linear(in_features=7, out_features=2, bias=True)\n",
       "  (out_act): Sigmoid()\n",
       ")"
      ]
     },
     "execution_count": 7,
     "metadata": {},
     "output_type": "execute_result"
    }
   ],
   "source": [
    "N_in = training_kwargs['N_in']\n",
    "N_out = 2\n",
    "rnn_model = RNNModel(N_in, N_out, N_rec, n_layers=1, transform_function='relu')\n",
    "\n",
    "with torch.no_grad():\n",
    "    rnn_model.rnn.all_weights[0][0][:] = torch.tensor(W_in, dtype=torch.float)\n",
    "    rnn_model.rnn.all_weights[0][1][:] = torch.tensor(W_hh, dtype=torch.float)\n",
    "        #biases of hidden neuron\n",
    "    rnn_model.rnn.all_weights[0][2][:] =  torch.tensor(bias, dtype=torch.float)\n",
    "    rnn_model.rnn.all_weights[0][3][:] =  torch.zeros((N_rec), dtype=torch.float)\n",
    "        #fully connected layers\n",
    "    rnn_model.fc.weight = nn.Parameter(torch.tensor(W_out, dtype=torch.float))\n",
    "    rnn_model.fc.bias = nn.Parameter(torch.tensor(ouput_bias, dtype=torch.float)) \n",
    "    \n",
    "torch.save(rnn_model.state_dict(), perfect_path + '/perfect_weights_v3.pth')\n",
    "\n",
    "rnn_model.to(device)"
   ]
  },
  {
   "cell_type": "code",
   "execution_count": 8,
   "id": "6844f778-d73f-4dd6-8e64-ef0ba4db4b4f",
   "metadata": {},
   "outputs": [],
   "source": [
    "training_kwargs['N_rec'] = 7"
   ]
  },
  {
   "cell_type": "code",
   "execution_count": 9,
   "id": "5ee9f77c-9ef0-483b-9571-46635e8bec09",
   "metadata": {},
   "outputs": [],
   "source": [
    "training_kwargs['exp_path'] = \"C:\\\\Users\\\\abel_\\\\Documents\\\\Rotations\\\\CIT\\\\cit_for_computation\\\\experiments\\\\poisson_clicks\\\\perfect_model\\\\perfect_weights_v3.pth\""
   ]
  },
  {
   "cell_type": "code",
   "execution_count": 10,
   "id": "fb8d24d0-5165-42e3-9878-2a9ed8f1d5f1",
   "metadata": {},
   "outputs": [],
   "source": [
    "rnn_model = RNNModel(training_kwargs['N_in'], training_kwargs['N_out'], training_kwargs['N_rec'], n_layers=1, transform_function='relu', constrain_spectrum=training_kwargs['constrain_spectrum']).to(device)\n",
    "# rnn_model = load_model(rnn_model, training_kwargs)\n",
    "\n",
    "rnn_model.load_state_dict(torch.load(training_kwargs['exp_path'], map_location=torch.device(training_kwargs['device'])))\n",
    "\n",
    "rnn_model.eval();"
   ]
  },
  {
   "cell_type": "code",
   "execution_count": null,
   "id": "46b4eda0-377b-4b68-99c2-2daaf92e9a0f",
   "metadata": {},
   "outputs": [],
   "source": []
  },
  {
   "cell_type": "code",
   "execution_count": null,
   "id": "9f5ed6df-87b9-4f17-99d6-692b91384117",
   "metadata": {},
   "outputs": [],
   "source": []
  },
  {
   "cell_type": "code",
   "execution_count": 11,
   "id": "9d0f3cad-ab0e-443a-af48-71d129929712",
   "metadata": {},
   "outputs": [],
   "source": [
    "import tasks"
   ]
  },
  {
   "cell_type": "code",
   "execution_count": 12,
   "id": "5965c6b6-f55b-42fd-8d28-342a3349d8d9",
   "metadata": {},
   "outputs": [],
   "source": [
    "x_data = np.random.poisson(lam=[.1,.1], size=(150,2))\n",
    "x_data = np.where(x_data<2, x_data, 1)\n"
   ]
  },
  {
   "cell_type": "code",
   "execution_count": 13,
   "id": "3e64333a-273e-4969-a32a-ba3368aadddc",
   "metadata": {},
   "outputs": [
    {
     "data": {
      "text/plain": [
       "[<matplotlib.lines.Line2D at 0x10aaea72560>]"
      ]
     },
     "execution_count": 13,
     "metadata": {},
     "output_type": "execute_result"
    },
    {
     "data": {
      "image/png": "[encoded data removed]",
      "text/plain": [
       "<Figure size 640x480 with 1 Axes>"
      ]
     },
     "metadata": {},
     "output_type": "display_data"
    }
   ],
   "source": [
    "np.cumsum(x_data, 1)\n",
    "\n",
    "plt.plot(x_data, 'x')\n",
    "plt.plot(np.cumsum(x_data, 0))\n",
    "plt.plot(np.cumsum(x_data, 0)[:,0]-np.cumsum(x_data, 0)[:,1])"
   ]
  },
  {
   "cell_type": "code",
   "execution_count": 14,
   "id": "79827dd6-856e-4ce4-ba31-cd31356dc39c",
   "metadata": {},
   "outputs": [],
   "source": [
    "training_kwargs['count_out'] = '2D_uncued'\n",
    "\n",
    "train_set, test_set, task_train, task_test = make_train_test_sets(training_kwargs)"
   ]
  },
  {
   "cell_type": "code",
   "execution_count": 15,
   "id": "d83a230d-a0ed-4e7c-ae7e-96cf8ebd2363",
   "metadata": {},
   "outputs": [],
   "source": [
    "x_data, y_data, mask, params = train_set"
   ]
  },
  {
   "cell_type": "code",
   "execution_count": 16,
   "id": "40f6dca6-905d-44b2-a2cd-35e6a1d078bf",
   "metadata": {},
   "outputs": [
    {
     "data": {
      "text/plain": [
       "[<matplotlib.lines.Line2D at 0x10ab8c41030>,\n",
       " <matplotlib.lines.Line2D at 0x10ab8c41060>]"
      ]
     },
     "execution_count": 16,
     "metadata": {},
     "output_type": "execute_result"
    },
    {
     "data": {
      "image/png": "[encoded data removed]",
      "text/plain": [
       "<Figure size 640x480 with 1 Axes>"
      ]
     },
     "metadata": {},
     "output_type": "display_data"
    }
   ],
   "source": [
    "plt.plot(x_data[0], 'x')\n",
    "plt.plot(y_data[0])"
   ]
  },
  {
   "cell_type": "code",
   "execution_count": null,
   "id": "5772dc01-1d57-4928-924c-e08d3f8cc719",
   "metadata": {},
   "outputs": [],
   "source": []
  }
 ],
 "metadata": {
  "kernelspec": {
   "display_name": "Python 3 (ipykernel)",
   "language": "python",
   "name": "python3"
  },
  "language_info": {
   "codemirror_mode": {
    "name": "ipython",
    "version": 3
   },
   "file_extension": ".py",
   "mimetype": "text/x-python",
   "name": "python",
   "nbconvert_exporter": "python",
   "pygments_lexer": "ipython3",
   "version": "3.10.9"
  }
 },
 "nbformat": 4,
 "nbformat_minor": 5
}
